{
  "cells": [
    {
      "cell_type": "code",
      "source": [
        "import os\n",
        "import nltk\n",
        "import pandas\n",
        "import re"
      ],
      "metadata": {
        "id": "5VzH7yhObLhK"
      },
      "execution_count": 7,
      "outputs": []
    },
    {
      "cell_type": "code",
      "source": [
        "classDict = {'neg': 0, 'pos': 1,'ntr': 2}\n",
        "label2id = []\n",
        "def read_File():\n",
        "    sentences = []\n",
        "    labels = []\n",
        "    scrip_dir = os.path.dirname(os.path.realpath('./data1.txt'))\n",
        "    rel_path = \"data1.txt\"\n",
        "    abs_file_path = os.path.join(scrip_dir, rel_path)\n",
        "    with open(abs_file_path, encoding='utf-8') as f:\n",
        "        for line in f:\n",
        "            word = line.split()\n",
        "            labels.append(word[0])\n",
        "            label2id.append(classDict[word[0]])\n",
        "            sentence = re.sub(word[0]+'\\t', '', line)\n",
        "            sentences.append(sentence)\n",
        "            # print(sentences)\n",
        "    print('read file complete')\n",
        "    \n",
        "    return sentences, labels"
      ],
      "metadata": {
        "id": "8HH7yafgbS0r"
      },
      "execution_count": 46,
      "outputs": []
    },
    {
      "cell_type": "code",
      "source": [
        "sentences, labels = read_File()"
      ],
      "metadata": {
        "id": "5MTPF5v8b5ca",
        "outputId": "d03b130d-8ca0-4306-ab33-780fce0fddea",
        "colab": {
          "base_uri": "https://localhost:8080/"
        }
      },
      "execution_count": 47,
      "outputs": [
        {
          "output_type": "stream",
          "name": "stdout",
          "text": [
            "read file complete\n"
          ]
        }
      ]
    },
    {
      "cell_type": "code",
      "source": [
        "import pandas as pd\n",
        "\n",
        "data = {'label': labels,\n",
        "        'sentence': sentences\n",
        "        }\n",
        "df = pd.DataFrame(data, columns = ['label', 'sentence'])\n",
        "\n",
        "df.head(20)"
      ],
      "metadata": {
        "id": "U6soFv3brOvM",
        "outputId": "b8a69ece-01b6-4bda-df27-f1118e2dda5e",
        "colab": {
          "base_uri": "https://localhost:8080/",
          "height": 676
        }
      },
      "execution_count": 49,
      "outputs": [
        {
          "output_type": "execute_result",
          "data": {
            "text/plain": [
              "   label                                           sentence\n",
              "0    ntr                         ntr  amra sobhai raji!!!\\n\n",
              "1    ntr                          ntr  ajke ki amra jabo?\\n\n",
              "2    ntr                   ntr  ajke ki argentine jitbe??\\n\n",
              "3    pos                       pos  amra sobhai valo achi\\n\n",
              "4    pos                        pos  ajke valo kaj hoyche\\n\n",
              "5    pos       pos  ekjon bangladeshi hisabe ami gorbitho\\n\n",
              "6    neg                       neg  india re kau maira la\\n\n",
              "7    neg                  neg  chore chore masthotho bhai\\n\n",
              "8    neg             neg  pic to dili na hala kmne kortam\\n\n",
              "9    pos           pos  taskin re rhakr jonno dhonnobhad.\\n\n",
              "10   neg                       neg  uni ekta chor,batpar.\\n\n",
              "11   neg                             neg  lok ta onk karp\\n\n",
              "12   ntr                ntr  Cashback pai nai kan nagad a\\n\n",
              "13   ntr        ntr  Ajk o ki mystery box er offer thakbe\\n\n",
              "14   pos                                  pos  Love daraz\\n\n",
              "15   ntr         ntr  13-12-22 nagad/bkash cash back ace?\\n\n",
              "16   ntr  ntr  daraz app a grameenphone a 122 taka recha...\n",
              "17   pos                          pos  Tou up offer chai?\\n\n",
              "18   neg                          neg  Amar to 12 12 miss\\n\n",
              "19   ntr  ntr  12, 12 order offer ki cash on delivery te..."
            ],
            "text/html": [
              "\n",
              "  <div id=\"df-f589cd54-f551-4942-8cb5-543f9614d178\">\n",
              "    <div class=\"colab-df-container\">\n",
              "      <div>\n",
              "<style scoped>\n",
              "    .dataframe tbody tr th:only-of-type {\n",
              "        vertical-align: middle;\n",
              "    }\n",
              "\n",
              "    .dataframe tbody tr th {\n",
              "        vertical-align: top;\n",
              "    }\n",
              "\n",
              "    .dataframe thead th {\n",
              "        text-align: right;\n",
              "    }\n",
              "</style>\n",
              "<table border=\"1\" class=\"dataframe\">\n",
              "  <thead>\n",
              "    <tr style=\"text-align: right;\">\n",
              "      <th></th>\n",
              "      <th>label</th>\n",
              "      <th>sentence</th>\n",
              "    </tr>\n",
              "  </thead>\n",
              "  <tbody>\n",
              "    <tr>\n",
              "      <th>0</th>\n",
              "      <td>ntr</td>\n",
              "      <td>ntr  amra sobhai raji!!!\\n</td>\n",
              "    </tr>\n",
              "    <tr>\n",
              "      <th>1</th>\n",
              "      <td>ntr</td>\n",
              "      <td>ntr  ajke ki amra jabo?\\n</td>\n",
              "    </tr>\n",
              "    <tr>\n",
              "      <th>2</th>\n",
              "      <td>ntr</td>\n",
              "      <td>ntr  ajke ki argentine jitbe??\\n</td>\n",
              "    </tr>\n",
              "    <tr>\n",
              "      <th>3</th>\n",
              "      <td>pos</td>\n",
              "      <td>pos  amra sobhai valo achi\\n</td>\n",
              "    </tr>\n",
              "    <tr>\n",
              "      <th>4</th>\n",
              "      <td>pos</td>\n",
              "      <td>pos  ajke valo kaj hoyche\\n</td>\n",
              "    </tr>\n",
              "    <tr>\n",
              "      <th>5</th>\n",
              "      <td>pos</td>\n",
              "      <td>pos  ekjon bangladeshi hisabe ami gorbitho\\n</td>\n",
              "    </tr>\n",
              "    <tr>\n",
              "      <th>6</th>\n",
              "      <td>neg</td>\n",
              "      <td>neg  india re kau maira la\\n</td>\n",
              "    </tr>\n",
              "    <tr>\n",
              "      <th>7</th>\n",
              "      <td>neg</td>\n",
              "      <td>neg  chore chore masthotho bhai\\n</td>\n",
              "    </tr>\n",
              "    <tr>\n",
              "      <th>8</th>\n",
              "      <td>neg</td>\n",
              "      <td>neg  pic to dili na hala kmne kortam\\n</td>\n",
              "    </tr>\n",
              "    <tr>\n",
              "      <th>9</th>\n",
              "      <td>pos</td>\n",
              "      <td>pos  taskin re rhakr jonno dhonnobhad.\\n</td>\n",
              "    </tr>\n",
              "    <tr>\n",
              "      <th>10</th>\n",
              "      <td>neg</td>\n",
              "      <td>neg  uni ekta chor,batpar.\\n</td>\n",
              "    </tr>\n",
              "    <tr>\n",
              "      <th>11</th>\n",
              "      <td>neg</td>\n",
              "      <td>neg  lok ta onk karp\\n</td>\n",
              "    </tr>\n",
              "    <tr>\n",
              "      <th>12</th>\n",
              "      <td>ntr</td>\n",
              "      <td>ntr  Cashback pai nai kan nagad a\\n</td>\n",
              "    </tr>\n",
              "    <tr>\n",
              "      <th>13</th>\n",
              "      <td>ntr</td>\n",
              "      <td>ntr  Ajk o ki mystery box er offer thakbe\\n</td>\n",
              "    </tr>\n",
              "    <tr>\n",
              "      <th>14</th>\n",
              "      <td>pos</td>\n",
              "      <td>pos  Love daraz\\n</td>\n",
              "    </tr>\n",
              "    <tr>\n",
              "      <th>15</th>\n",
              "      <td>ntr</td>\n",
              "      <td>ntr  13-12-22 nagad/bkash cash back ace?\\n</td>\n",
              "    </tr>\n",
              "    <tr>\n",
              "      <th>16</th>\n",
              "      <td>ntr</td>\n",
              "      <td>ntr  daraz app a grameenphone a 122 taka recha...</td>\n",
              "    </tr>\n",
              "    <tr>\n",
              "      <th>17</th>\n",
              "      <td>pos</td>\n",
              "      <td>pos  Tou up offer chai?\\n</td>\n",
              "    </tr>\n",
              "    <tr>\n",
              "      <th>18</th>\n",
              "      <td>neg</td>\n",
              "      <td>neg  Amar to 12 12 miss\\n</td>\n",
              "    </tr>\n",
              "    <tr>\n",
              "      <th>19</th>\n",
              "      <td>ntr</td>\n",
              "      <td>ntr  12, 12 order offer ki cash on delivery te...</td>\n",
              "    </tr>\n",
              "  </tbody>\n",
              "</table>\n",
              "</div>\n",
              "      <button class=\"colab-df-convert\" onclick=\"convertToInteractive('df-f589cd54-f551-4942-8cb5-543f9614d178')\"\n",
              "              title=\"Convert this dataframe to an interactive table.\"\n",
              "              style=\"display:none;\">\n",
              "        \n",
              "  <svg xmlns=\"http://www.w3.org/2000/svg\" height=\"24px\"viewBox=\"0 0 24 24\"\n",
              "       width=\"24px\">\n",
              "    <path d=\"M0 0h24v24H0V0z\" fill=\"none\"/>\n",
              "    <path d=\"M18.56 5.44l.94 2.06.94-2.06 2.06-.94-2.06-.94-.94-2.06-.94 2.06-2.06.94zm-11 1L8.5 8.5l.94-2.06 2.06-.94-2.06-.94L8.5 2.5l-.94 2.06-2.06.94zm10 10l.94 2.06.94-2.06 2.06-.94-2.06-.94-.94-2.06-.94 2.06-2.06.94z\"/><path d=\"M17.41 7.96l-1.37-1.37c-.4-.4-.92-.59-1.43-.59-.52 0-1.04.2-1.43.59L10.3 9.45l-7.72 7.72c-.78.78-.78 2.05 0 2.83L4 21.41c.39.39.9.59 1.41.59.51 0 1.02-.2 1.41-.59l7.78-7.78 2.81-2.81c.8-.78.8-2.07 0-2.86zM5.41 20L4 18.59l7.72-7.72 1.47 1.35L5.41 20z\"/>\n",
              "  </svg>\n",
              "      </button>\n",
              "      \n",
              "  <style>\n",
              "    .colab-df-container {\n",
              "      display:flex;\n",
              "      flex-wrap:wrap;\n",
              "      gap: 12px;\n",
              "    }\n",
              "\n",
              "    .colab-df-convert {\n",
              "      background-color: #E8F0FE;\n",
              "      border: none;\n",
              "      border-radius: 50%;\n",
              "      cursor: pointer;\n",
              "      display: none;\n",
              "      fill: #1967D2;\n",
              "      height: 32px;\n",
              "      padding: 0 0 0 0;\n",
              "      width: 32px;\n",
              "    }\n",
              "\n",
              "    .colab-df-convert:hover {\n",
              "      background-color: #E2EBFA;\n",
              "      box-shadow: 0px 1px 2px rgba(60, 64, 67, 0.3), 0px 1px 3px 1px rgba(60, 64, 67, 0.15);\n",
              "      fill: #174EA6;\n",
              "    }\n",
              "\n",
              "    [theme=dark] .colab-df-convert {\n",
              "      background-color: #3B4455;\n",
              "      fill: #D2E3FC;\n",
              "    }\n",
              "\n",
              "    [theme=dark] .colab-df-convert:hover {\n",
              "      background-color: #434B5C;\n",
              "      box-shadow: 0px 1px 3px 1px rgba(0, 0, 0, 0.15);\n",
              "      filter: drop-shadow(0px 1px 2px rgba(0, 0, 0, 0.3));\n",
              "      fill: #FFFFFF;\n",
              "    }\n",
              "  </style>\n",
              "\n",
              "      <script>\n",
              "        const buttonEl =\n",
              "          document.querySelector('#df-f589cd54-f551-4942-8cb5-543f9614d178 button.colab-df-convert');\n",
              "        buttonEl.style.display =\n",
              "          google.colab.kernel.accessAllowed ? 'block' : 'none';\n",
              "\n",
              "        async function convertToInteractive(key) {\n",
              "          const element = document.querySelector('#df-f589cd54-f551-4942-8cb5-543f9614d178');\n",
              "          const dataTable =\n",
              "            await google.colab.kernel.invokeFunction('convertToInteractive',\n",
              "                                                     [key], {});\n",
              "          if (!dataTable) return;\n",
              "\n",
              "          const docLinkHtml = 'Like what you see? Visit the ' +\n",
              "            '<a target=\"_blank\" href=https://colab.research.google.com/notebooks/data_table.ipynb>data table notebook</a>'\n",
              "            + ' to learn more about interactive tables.';\n",
              "          element.innerHTML = '';\n",
              "          dataTable['output_type'] = 'display_data';\n",
              "          await google.colab.output.renderOutput(dataTable, element);\n",
              "          const docLink = document.createElement('div');\n",
              "          docLink.innerHTML = docLinkHtml;\n",
              "          element.appendChild(docLink);\n",
              "        }\n",
              "      </script>\n",
              "    </div>\n",
              "  </div>\n",
              "  "
            ]
          },
          "metadata": {},
          "execution_count": 49
        }
      ]
    },
    {
      "cell_type": "code",
      "source": [
        "df.describe(include='all')"
      ],
      "metadata": {
        "id": "FB2NC154rYbu",
        "outputId": "b80b5821-0ade-4ba0-b989-284a1e7f40c5",
        "colab": {
          "base_uri": "https://localhost:8080/",
          "height": 175
        }
      },
      "execution_count": 50,
      "outputs": [
        {
          "output_type": "execute_result",
          "data": {
            "text/plain": [
              "       label                    sentence\n",
              "count    122                         122\n",
              "unique     3                         122\n",
              "top      pos  ntr  amra sobhai raji!!!\\n\n",
              "freq      47                           1"
            ],
            "text/html": [
              "\n",
              "  <div id=\"df-71c0b0cb-7135-4710-b567-b556528d1d43\">\n",
              "    <div class=\"colab-df-container\">\n",
              "      <div>\n",
              "<style scoped>\n",
              "    .dataframe tbody tr th:only-of-type {\n",
              "        vertical-align: middle;\n",
              "    }\n",
              "\n",
              "    .dataframe tbody tr th {\n",
              "        vertical-align: top;\n",
              "    }\n",
              "\n",
              "    .dataframe thead th {\n",
              "        text-align: right;\n",
              "    }\n",
              "</style>\n",
              "<table border=\"1\" class=\"dataframe\">\n",
              "  <thead>\n",
              "    <tr style=\"text-align: right;\">\n",
              "      <th></th>\n",
              "      <th>label</th>\n",
              "      <th>sentence</th>\n",
              "    </tr>\n",
              "  </thead>\n",
              "  <tbody>\n",
              "    <tr>\n",
              "      <th>count</th>\n",
              "      <td>122</td>\n",
              "      <td>122</td>\n",
              "    </tr>\n",
              "    <tr>\n",
              "      <th>unique</th>\n",
              "      <td>3</td>\n",
              "      <td>122</td>\n",
              "    </tr>\n",
              "    <tr>\n",
              "      <th>top</th>\n",
              "      <td>pos</td>\n",
              "      <td>ntr  amra sobhai raji!!!\\n</td>\n",
              "    </tr>\n",
              "    <tr>\n",
              "      <th>freq</th>\n",
              "      <td>47</td>\n",
              "      <td>1</td>\n",
              "    </tr>\n",
              "  </tbody>\n",
              "</table>\n",
              "</div>\n",
              "      <button class=\"colab-df-convert\" onclick=\"convertToInteractive('df-71c0b0cb-7135-4710-b567-b556528d1d43')\"\n",
              "              title=\"Convert this dataframe to an interactive table.\"\n",
              "              style=\"display:none;\">\n",
              "        \n",
              "  <svg xmlns=\"http://www.w3.org/2000/svg\" height=\"24px\"viewBox=\"0 0 24 24\"\n",
              "       width=\"24px\">\n",
              "    <path d=\"M0 0h24v24H0V0z\" fill=\"none\"/>\n",
              "    <path d=\"M18.56 5.44l.94 2.06.94-2.06 2.06-.94-2.06-.94-.94-2.06-.94 2.06-2.06.94zm-11 1L8.5 8.5l.94-2.06 2.06-.94-2.06-.94L8.5 2.5l-.94 2.06-2.06.94zm10 10l.94 2.06.94-2.06 2.06-.94-2.06-.94-.94-2.06-.94 2.06-2.06.94z\"/><path d=\"M17.41 7.96l-1.37-1.37c-.4-.4-.92-.59-1.43-.59-.52 0-1.04.2-1.43.59L10.3 9.45l-7.72 7.72c-.78.78-.78 2.05 0 2.83L4 21.41c.39.39.9.59 1.41.59.51 0 1.02-.2 1.41-.59l7.78-7.78 2.81-2.81c.8-.78.8-2.07 0-2.86zM5.41 20L4 18.59l7.72-7.72 1.47 1.35L5.41 20z\"/>\n",
              "  </svg>\n",
              "      </button>\n",
              "      \n",
              "  <style>\n",
              "    .colab-df-container {\n",
              "      display:flex;\n",
              "      flex-wrap:wrap;\n",
              "      gap: 12px;\n",
              "    }\n",
              "\n",
              "    .colab-df-convert {\n",
              "      background-color: #E8F0FE;\n",
              "      border: none;\n",
              "      border-radius: 50%;\n",
              "      cursor: pointer;\n",
              "      display: none;\n",
              "      fill: #1967D2;\n",
              "      height: 32px;\n",
              "      padding: 0 0 0 0;\n",
              "      width: 32px;\n",
              "    }\n",
              "\n",
              "    .colab-df-convert:hover {\n",
              "      background-color: #E2EBFA;\n",
              "      box-shadow: 0px 1px 2px rgba(60, 64, 67, 0.3), 0px 1px 3px 1px rgba(60, 64, 67, 0.15);\n",
              "      fill: #174EA6;\n",
              "    }\n",
              "\n",
              "    [theme=dark] .colab-df-convert {\n",
              "      background-color: #3B4455;\n",
              "      fill: #D2E3FC;\n",
              "    }\n",
              "\n",
              "    [theme=dark] .colab-df-convert:hover {\n",
              "      background-color: #434B5C;\n",
              "      box-shadow: 0px 1px 3px 1px rgba(0, 0, 0, 0.15);\n",
              "      filter: drop-shadow(0px 1px 2px rgba(0, 0, 0, 0.3));\n",
              "      fill: #FFFFFF;\n",
              "    }\n",
              "  </style>\n",
              "\n",
              "      <script>\n",
              "        const buttonEl =\n",
              "          document.querySelector('#df-71c0b0cb-7135-4710-b567-b556528d1d43 button.colab-df-convert');\n",
              "        buttonEl.style.display =\n",
              "          google.colab.kernel.accessAllowed ? 'block' : 'none';\n",
              "\n",
              "        async function convertToInteractive(key) {\n",
              "          const element = document.querySelector('#df-71c0b0cb-7135-4710-b567-b556528d1d43');\n",
              "          const dataTable =\n",
              "            await google.colab.kernel.invokeFunction('convertToInteractive',\n",
              "                                                     [key], {});\n",
              "          if (!dataTable) return;\n",
              "\n",
              "          const docLinkHtml = 'Like what you see? Visit the ' +\n",
              "            '<a target=\"_blank\" href=https://colab.research.google.com/notebooks/data_table.ipynb>data table notebook</a>'\n",
              "            + ' to learn more about interactive tables.';\n",
              "          element.innerHTML = '';\n",
              "          dataTable['output_type'] = 'display_data';\n",
              "          await google.colab.output.renderOutput(dataTable, element);\n",
              "          const docLink = document.createElement('div');\n",
              "          docLink.innerHTML = docLinkHtml;\n",
              "          element.appendChild(docLink);\n",
              "        }\n",
              "      </script>\n",
              "    </div>\n",
              "  </div>\n",
              "  "
            ]
          },
          "metadata": {},
          "execution_count": 50
        }
      ]
    },
    {
      "cell_type": "code",
      "source": [
        "df['label'].value_counts().plot(kind=\"bar\", rot=0)"
      ],
      "metadata": {
        "id": "Odo1hdE5reyX",
        "outputId": "f6ca0f97-e5dc-4b80-a5a0-a5b608f76668",
        "colab": {
          "base_uri": "https://localhost:8080/",
          "height": 282
        }
      },
      "execution_count": 51,
      "outputs": [
        {
          "output_type": "execute_result",
          "data": {
            "text/plain": [
              "<matplotlib.axes._subplots.AxesSubplot at 0x7f4f74307c10>"
            ]
          },
          "metadata": {},
          "execution_count": 51
        },
        {
          "output_type": "display_data",
          "data": {
            "text/plain": [
              "<Figure size 432x288 with 1 Axes>"
            ],
            "image/png": "[encoded data removed]"
          },
          "metadata": {
            "needs_background": "light"
          }
        }
      ]
    },
    {
      "cell_type": "code",
      "source": [
        "def cleanTxt(text):\n",
        "    text = re.sub(r'[^\\w\\s]', '', text) \n",
        "    text=text.lower()\n",
        "    \n",
        "    text=re.sub(r'[0-9\\.]+', '',text)\n",
        "    stop_words = open('./stop1.txt', 'r',\n",
        "                      encoding='utf-8').read().split()\n",
        "    result = text.split() \n",
        "    text = [word.strip()\n",
        "                           for word in result if word not in stop_words]\n",
        "    text = \" \".join(text)                 \n",
        "    # text=[wordnet.lemmatize(word)for word in text if word not in set(stopwords.words('english'))]\n",
        "    # text=' '.join(text)\n",
        "    return text"
      ],
      "metadata": {
        "id": "RVt2ppwTr0jg"
      },
      "execution_count": 52,
      "outputs": []
    },
    {
      "cell_type": "code",
      "source": [
        "df.loc[15,'sentence']"
      ],
      "metadata": {
        "id": "HEq2Qsw4r6Rw",
        "outputId": "1ed96635-cc02-48b3-d810-ab19a047a7f7",
        "colab": {
          "base_uri": "https://localhost:8080/",
          "height": 36
        }
      },
      "execution_count": 54,
      "outputs": [
        {
          "output_type": "execute_result",
          "data": {
            "text/plain": [
              "'ntr  13-12-22 nagad/bkash cash back ace?\\n'"
            ],
            "application/vnd.google.colaboratory.intrinsic+json": {
              "type": "string"
            }
          },
          "metadata": {},
          "execution_count": 54
        }
      ]
    },
    {
      "cell_type": "code",
      "source": [
        "for i, sent  in enumerate(df['sentence'].tolist()):\n",
        "    df.loc[i,'clean_sentence'] = cleanTxt(sent)"
      ],
      "metadata": {
        "id": "ahSDNAcwsJNZ"
      },
      "execution_count": 55,
      "outputs": []
    },
    {
      "cell_type": "code",
      "source": [
        "test = df.loc[15,'clean_sentence']\n",
        "test"
      ],
      "metadata": {
        "id": "caSfImFmsK2f",
        "outputId": "4cb8b273-a399-47d7-ce6e-e6e1048e27df",
        "colab": {
          "base_uri": "https://localhost:8080/",
          "height": 36
        }
      },
      "execution_count": 57,
      "outputs": [
        {
          "output_type": "execute_result",
          "data": {
            "text/plain": [
              "'nagadbkash cash back ace'"
            ],
            "application/vnd.google.colaboratory.intrinsic+json": {
              "type": "string"
            }
          },
          "metadata": {},
          "execution_count": 57
        }
      ]
    },
    {
      "cell_type": "code",
      "source": [
        "def tokenized_data(sent):\n",
        "    tokenized_text = sent.split()\n",
        "    return tokenized_text"
      ],
      "metadata": {
        "id": "zK2k0A4MsX-1"
      },
      "execution_count": 58,
      "outputs": []
    },
    {
      "cell_type": "code",
      "source": [
        "stop_words = {'amra','ki','ekjon','ntr','pos','neg','to','ta','re','ami','pai','nai','kan','a','o','ki','er','to','on','te','kon','ta','ai','tar','kora','but','second','arr','vai','allah','go','kno','keno','ar','er','ata','da','aj','vai','e','what','bai','click','krte','box','kinar','r','rr','klk','je','kalky','but','ekn','ai','step','by','kbe','ti','sei','vi','jutte','koto','tym','eeeeeeee','jy','ar'}\n",
        "\n",
        "def remove_stop_words(text):\n",
        "    text = [w for w in text if not w in stop_words]\n",
        "    text = ' '.join(text)\n",
        "    return text"
      ],
      "metadata": {
        "id": "fM0UH0G0sZ8h"
      },
      "execution_count": 59,
      "outputs": []
    },
    {
      "cell_type": "code",
      "source": [
        "t_data = tokenized_data(test)\n",
        "r_word = remove_stop_words(t_data)\n",
        "print('befor :', test)\n",
        "print('after :', r_word)"
      ],
      "metadata": {
        "id": "nBN4iFoBue0V",
        "outputId": "de65194c-7632-4032-9595-98c6c2f2cc68",
        "colab": {
          "base_uri": "https://localhost:8080/"
        }
      },
      "execution_count": 60,
      "outputs": [
        {
          "output_type": "stream",
          "name": "stdout",
          "text": [
            "befor : nagadbkash cash back ace\n",
            "after : nagadbkash cash back ace\n"
          ]
        }
      ]
    },
    {
      "cell_type": "code",
      "source": [
        "df['clean_data'] = [remove_stop_words(tokenized_data(sent)) for sent in df['clean_sentence'].tolist()]\n",
        "#del df['sentence']\n",
        "df.to_csv('sentiment_analysis_clean_data_new.csv', encoding='utf-8', index=False)"
      ],
      "metadata": {
        "id": "K3vbCBc5up1v"
      },
      "execution_count": 61,
      "outputs": []
    },
    {
      "cell_type": "code",
      "source": [
        "from sklearn.feature_extraction.text import CountVectorizer\n",
        "stpGram = {}\n",
        "word_vectorizerGram = CountVectorizer(analyzer='word', ngram_range=(1, 3), min_df=1, lowercase=False,\n",
        "                                          token_pattern=u'[\\S]+', tokenizer=None)\n",
        "word_vectorizerGram.fit_transform(df['clean_sentence'])\n",
        "stpGram = word_vectorizerGram.get_feature_names()\n",
        "print(len(stpGram))"
      ],
      "metadata": {
        "id": "gF0Z_LNUu1Zu",
        "outputId": "15face51-ae75-424e-cd9a-9c6c393559a3",
        "colab": {
          "base_uri": "https://localhost:8080/"
        }
      },
      "execution_count": 62,
      "outputs": [
        {
          "output_type": "stream",
          "name": "stdout",
          "text": [
            "1166\n"
          ]
        },
        {
          "output_type": "stream",
          "name": "stderr",
          "text": [
            "/usr/local/lib/python3.8/dist-packages/sklearn/utils/deprecation.py:87: FutureWarning: Function get_feature_names is deprecated; get_feature_names is deprecated in 1.0 and will be removed in 1.2. Please use get_feature_names_out instead.\n",
            "  warnings.warn(msg, category=FutureWarning)\n"
          ]
        }
      ]
    },
    {
      "cell_type": "code",
      "source": [
        "word_vectorizerGram_rsw = CountVectorizer(analyzer='word', ngram_range=(1, 3), min_df=1, lowercase=False,\n",
        "                                          token_pattern=u'[\\S]+', tokenizer=None)\n",
        "word_vectorizerGram_rsw.fit_transform(df['clean_data'])\n",
        "stpGram_rsw = word_vectorizerGram_rsw.get_feature_names()\n",
        "print(len(stpGram_rsw))\n",
        "print('sample of bigram : ',stpGram_rsw[10])"
      ],
      "metadata": {
        "id": "c7XDpY-Ku5mM",
        "outputId": "b28c8270-7bbc-4d64-c611-2b6c3ea0a44d",
        "colab": {
          "base_uri": "https://localhost:8080/"
        }
      },
      "execution_count": 63,
      "outputs": [
        {
          "output_type": "stream",
          "name": "stdout",
          "text": [
            "1166\n",
            "sample of bigram :  ager price show\n"
          ]
        }
      ]
    },
    {
      "cell_type": "code",
      "source": [
        "import numpy as np\n",
        "def sentence_to_vector_transform(line, stpGram):\n",
        "    vec = CountVectorizer(analyzer='word', ngram_range=(1, 2), min_df=1, lowercase=False, token_pattern=u'[\\S]+',\n",
        "                            tokenizer=None, vocabulary=stpGram)\n",
        "    tList = []\n",
        "    tList.append(line)\n",
        "    sent = vec.transform(tList)\n",
        "    sent = sent.toarray()\n",
        "    sent = np.squeeze(np.asarray(sent))\n",
        "    return sent\n",
        "     "
      ],
      "metadata": {
        "id": "KO3Rrhu8vAxb"
      },
      "execution_count": 64,
      "outputs": []
    },
    {
      "cell_type": "code",
      "source": [
        "def sentence_to_vector(data, stpGram):\n",
        "    dataForSVM = []\n",
        "    colName = []\n",
        "    dataVec = []\n",
        "    dataVec.append(colName)\n",
        "    \n",
        "    for idx, sent in enumerate(data):\n",
        "        \n",
        "        sent = sentence_to_vector_transform(sent, stpGram)\n",
        "        sentLst = list(sent)\n",
        "        dtList = []\n",
        "        try:\n",
        "            dtList.append(label2id[idx])\n",
        "            dataForSVM.append(sent)\n",
        "        except:\n",
        "            print(idx)\n",
        "        for item in sentLst:\n",
        "            dtList.append(item)\n",
        "        lengthOfEV = len(dtList)\n",
        "        dataVec.append(dtList)\n",
        "        \n",
        "    return dataForSVM"
      ],
      "metadata": {
        "id": "vz4lQVFdvE5J"
      },
      "execution_count": 65,
      "outputs": []
    },
    {
      "cell_type": "code",
      "source": [
        "dataForSVM = sentence_to_vector(df['clean_data'], stpGram_rsw)\n",
        "dataForSVM[0:4]"
      ],
      "metadata": {
        "id": "Pnlfl7BLvLbt",
        "outputId": "adba48db-abcc-4dc8-f77d-6217a19869ec",
        "colab": {
          "base_uri": "https://localhost:8080/"
        }
      },
      "execution_count": 66,
      "outputs": [
        {
          "output_type": "execute_result",
          "data": {
            "text/plain": [
              "[array([0, 0, 0, ..., 0, 0, 0]),\n",
              " array([0, 0, 0, ..., 0, 0, 0]),\n",
              " array([0, 0, 0, ..., 0, 0, 0]),\n",
              " array([0, 0, 0, ..., 0, 0, 0])]"
            ]
          },
          "metadata": {},
          "execution_count": 66
        }
      ]
    },
    {
      "cell_type": "code",
      "source": [
        "from sklearn.model_selection import train_test_split\n",
        "X_train, X_test, y_train, y_test = train_test_split(dataForSVM, label2id, test_size=0.2, random_state=0)"
      ],
      "metadata": {
        "id": "2bw9ANP8vNNd"
      },
      "execution_count": 67,
      "outputs": []
    },
    {
      "cell_type": "code",
      "source": [
        "from sklearn.svm import SVC\n",
        "C = 1.0  # SVM regularization parameter\n",
        "linear_svc = SVC(kernel='linear', C=C)\n",
        "linear_svc = linear_svc.fit(X_train, y_train)"
      ],
      "metadata": {
        "id": "uW5TbqgsvS63"
      },
      "execution_count": 68,
      "outputs": []
    },
    {
      "cell_type": "code",
      "source": [
        "import joblib\n",
        "import joblib as jb\n",
        "filename = 'svc_model.sav'\n",
        "jb.dump(linear_svc, filename)"
      ],
      "metadata": {
        "id": "uX0gburRvYGl",
        "outputId": "f2d79ce4-24fa-4325-e537-7ef5b1019947",
        "colab": {
          "base_uri": "https://localhost:8080/"
        }
      },
      "execution_count": 69,
      "outputs": [
        {
          "output_type": "execute_result",
          "data": {
            "text/plain": [
              "['svc_model.sav']"
            ]
          },
          "metadata": {},
          "execution_count": 69
        }
      ]
    },
    {
      "cell_type": "code",
      "source": [
        "from sklearn import metrics\n",
        "from sklearn.metrics import confusion_matrix\n",
        "\n",
        "def calculate_accuracy(kernel, model):\n",
        "    y_pred = model.predict(X_test)\n",
        "    #print the accuracy score of the model\n",
        "    print(kernel + \" accuracy : \",metrics.accuracy_score(y_test, y_pred, normalize = True))\n",
        "    score = confusion_matrix(y_test, y_pred)\n",
        "    print('confusion_matrix: \\n', score)"
      ],
      "metadata": {
        "id": "6-YkO6R2vZeG"
      },
      "execution_count": 70,
      "outputs": []
    },
    {
      "cell_type": "code",
      "source": [
        "from yellowbrick.classifier import ClassificationReport\n",
        "# Instantiate the classification model and visualizer\n",
        "\n",
        "def report(model):\n",
        "    visualizer = ClassificationReport(model, classes=['Won','Loss'])\n",
        "    visualizer.fit(X_train, y_train) # Fit the training data to the visualizer\n",
        "    visualizer.score(X_test, y_test) # Evaluate the model on the test data\n",
        "    g = visualizer.poof() # Draw/show/poof the data"
      ],
      "metadata": {
        "id": "t367tAbFvfqm"
      },
      "execution_count": 71,
      "outputs": []
    },
    {
      "cell_type": "code",
      "source": [
        "calculate_accuracy(kernel='linear', model=linear_svc)"
      ],
      "metadata": {
        "id": "lVBxlnq4vhKU",
        "outputId": "50fb43c8-8a84-4c1d-826d-c3055717f312",
        "colab": {
          "base_uri": "https://localhost:8080/"
        }
      },
      "execution_count": 72,
      "outputs": [
        {
          "output_type": "stream",
          "name": "stdout",
          "text": [
            "linear accuracy :  0.6\n",
            "confusion_matrix: \n",
            " [[4 4 0]\n",
            " [1 9 0]\n",
            " [1 4 2]]\n"
          ]
        }
      ]
    },
    {
      "cell_type": "code",
      "source": [
        "rbf_svc = SVC(kernel='rbf', gamma=0.7, C=C)\n",
        "rbf_svc = rbf_svc.fit(X_train, y_train)\n",
        "calculate_accuracy(kernel='rbf', model=rbf_svc)"
      ],
      "metadata": {
        "id": "YKFBooEOvlVJ",
        "outputId": "33e7a7e9-9165-4881-933b-1084a2262dcd",
        "colab": {
          "base_uri": "https://localhost:8080/"
        }
      },
      "execution_count": 73,
      "outputs": [
        {
          "output_type": "stream",
          "name": "stdout",
          "text": [
            "rbf accuracy :  0.28\n",
            "confusion_matrix: \n",
            " [[ 7  1  0]\n",
            " [10  0  0]\n",
            " [ 6  1  0]]\n"
          ]
        }
      ]
    },
    {
      "cell_type": "code",
      "source": [
        "poly_svc = SVC(kernel='poly', degree=3, C=C)\n",
        "poly_svc = poly_svc.fit(X_train, y_train)\n",
        "calculate_accuracy(kernel='rbf', model=poly_svc)"
      ],
      "metadata": {
        "id": "-UMia4qvvqsh",
        "outputId": "996461fe-069c-4829-d37b-d6406f992c34",
        "colab": {
          "base_uri": "https://localhost:8080/"
        }
      },
      "execution_count": 74,
      "outputs": [
        {
          "output_type": "stream",
          "name": "stdout",
          "text": [
            "rbf accuracy :  0.44\n",
            "confusion_matrix: \n",
            " [[ 1  7  0]\n",
            " [ 0 10  0]\n",
            " [ 0  7  0]]\n"
          ]
        }
      ]
    },
    {
      "cell_type": "code",
      "source": [
        "def calculate_accuracy(predictions, actual, modelName):\n",
        "    total = len(predictions)\n",
        "    idx = 0\n",
        "    error = 0\n",
        "    almostSame = 0\n",
        "    while idx < total:\n",
        "        if predictions[idx] != actual[idx]:\n",
        "            p = predictions[idx]\n",
        "            a = actual[idx]\n",
        "            # print('actual=',y_test[idx],'  predict=',predictions[idx])\n",
        "            if ((a == 0 or a == 1) and (p == 0 or p == 1)) or ((a == 3 or a == 4) and (p == 3 or p == 4)):\n",
        "                almostSame += 1\n",
        "            else:\n",
        "                error += 1\n",
        "        idx += 1\n",
        "    print('\\n', modelName, '\\n')\n",
        "    print(\"total=\", total)\n",
        "    print(\"error=\", error)\n",
        "    print(\"accuracy = \", ((total - error) * 100) / total)\n",
        "    print('almost same = ', almostSame)\n",
        "    print(\"actual accracy = \", ((total - error - almostSame) * 100) / total)"
      ],
      "metadata": {
        "id": "Ue1ICASIvve8"
      },
      "execution_count": 75,
      "outputs": []
    },
    {
      "cell_type": "code",
      "source": [
        "y_pred = linear_svc.predict(X_test)\n",
        "calculate_accuracy(y_pred, y_test, 'Linear')\n",
        "\n",
        "y_pred_rbf = rbf_svc.predict(X_test)\n",
        "calculate_accuracy(y_pred_rbf, y_test, 'rbf_svc')\n",
        "\n",
        "y_pred_poly = poly_svc.predict(X_test)\n",
        "calculate_accuracy(y_pred_poly, y_test, 'poly_svc')"
      ],
      "metadata": {
        "id": "1kdO1_yGvz5G",
        "outputId": "f8ae280e-cd59-40cf-f0b3-a05616e33e02",
        "colab": {
          "base_uri": "https://localhost:8080/"
        }
      },
      "execution_count": 76,
      "outputs": [
        {
          "output_type": "stream",
          "name": "stdout",
          "text": [
            "\n",
            " Linear \n",
            "\n",
            "total= 25\n",
            "error= 5\n",
            "accuracy =  80.0\n",
            "almost same =  5\n",
            "actual accracy =  60.0\n",
            "\n",
            " rbf_svc \n",
            "\n",
            "total= 25\n",
            "error= 7\n",
            "accuracy =  72.0\n",
            "almost same =  11\n",
            "actual accracy =  28.0\n",
            "\n",
            " poly_svc \n",
            "\n",
            "total= 25\n",
            "error= 7\n",
            "accuracy =  72.0\n",
            "almost same =  7\n",
            "actual accracy =  44.0\n"
          ]
        }
      ]
    },
    {
      "cell_type": "code",
      "source": [
        "from sklearn.ensemble import AdaBoostClassifier\n",
        "\n",
        "lr_list = [0.05, 0.075, 0.1, 0.25, 0.5, 0.75, 1]\n",
        "\n",
        "for learning_rate in lr_list:\n",
        "\n",
        "    abc = AdaBoostClassifier(n_estimators=50,\n",
        "                         learning_rate=learning_rate)\n",
        "    \n",
        "    abc_model = abc.fit(X_train, y_train)\n",
        "    \n",
        "    print(\"Learning rate: \", learning_rate)\n",
        "    print(\"Accuracy score (training): {0:.3f}\".format(abc_model.score(X_train, y_train)))\n",
        "    print(\"Accuracy score (validation): {0:.3f}\".format(abc_model.score(X_test, y_test)))"
      ],
      "metadata": {
        "id": "u5mDAlYEv64f",
        "outputId": "29fae0ef-71a3-4641-ce5a-c8460bec0e23",
        "colab": {
          "base_uri": "https://localhost:8080/"
        }
      },
      "execution_count": 77,
      "outputs": [
        {
          "output_type": "stream",
          "name": "stdout",
          "text": [
            "Learning rate:  0.05\n",
            "Accuracy score (training): 0.835\n",
            "Accuracy score (validation): 0.440\n",
            "Learning rate:  0.075\n",
            "Accuracy score (training): 0.835\n",
            "Accuracy score (validation): 0.440\n",
            "Learning rate:  0.1\n",
            "Accuracy score (training): 0.814\n",
            "Accuracy score (validation): 0.480\n",
            "Learning rate:  0.25\n",
            "Accuracy score (training): 0.753\n",
            "Accuracy score (validation): 0.440\n",
            "Learning rate:  0.5\n",
            "Accuracy score (training): 0.691\n",
            "Accuracy score (validation): 0.480\n",
            "Learning rate:  0.75\n",
            "Accuracy score (training): 0.670\n",
            "Accuracy score (validation): 0.480\n",
            "Learning rate:  1\n",
            "Accuracy score (training): 0.784\n",
            "Accuracy score (validation): 0.560\n"
          ]
        }
      ]
    },
    {
      "cell_type": "code",
      "source": [
        "sent = 'nagadbkash cash '\n",
        "\n",
        "sent = cleanTxt(sent)\n",
        "sent2vec =sentence_to_vector_transform(sent, stpGram)\n",
        "sent_list = list()\n",
        "sent_list.append(sent2vec)\n",
        "\n",
        "loaded_model = jb.load(filename)\n",
        "print(sent_list)\n",
        "predictions = loaded_model.predict(sent_list)\n",
        "print(predictions)\n",
        "\n",
        "ans = \"\"\n",
        "print(classDict)\n",
        "for key, value in classDict.items():\n",
        "    if value == predictions[0]:\n",
        "        ans = key\n",
        "print(ans)"
      ],
      "metadata": {
        "id": "Wxq7YIT7wAZq",
        "outputId": "643edc01-1590-4d7c-8f2a-0edd1973b0a2",
        "colab": {
          "base_uri": "https://localhost:8080/"
        }
      },
      "execution_count": 82,
      "outputs": [
        {
          "output_type": "stream",
          "name": "stdout",
          "text": [
            "[array([0, 0, 0, ..., 0, 0, 0])]\n",
            "[2]\n",
            "{'neg': 0, 'pos': 1, 'ntr': 2}\n",
            "ntr\n"
          ]
        }
      ]
    }
  ],
  "metadata": {
    "colab": {
      "name": "Welcome To Colaboratory",
      "provenance": []
    },
    "kernelspec": {
      "display_name": "Python 3",
      "name": "python3"
    }
  },
  "nbformat": 4,
  "nbformat_minor": 0
}