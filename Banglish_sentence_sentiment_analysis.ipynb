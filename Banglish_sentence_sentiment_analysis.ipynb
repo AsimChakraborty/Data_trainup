{
  "cells": [
    {
      "cell_type": "code",
      "source": [
        "import os\n",
        "import nltk\n",
        "import pandas\n",
        "import re"
      ],
      "metadata": {
        "id": "A_G1UBTe-T57"
      },
      "execution_count": 217,
      "outputs": []
    },
    {
      "cell_type": "code",
      "source": [
        "classDict = {'neg': 0, 'pos': 1,'ntr': 2}\n",
        "label2id = []\n",
        "def read_File():\n",
        "    sentences = []\n",
        "    labels = []\n",
        "    scrip_dir = os.path.dirname(os.path.realpath('./Data2.txt'))\n",
        "    rel_path = \"Data2.txt\"\n",
        "    abs_file_path = os.path.join(scrip_dir, rel_path)\n",
        "    with open(abs_file_path, encoding='utf-8') as f:\n",
        "        for line in f:\n",
        "            word = line.split()\n",
        "            labels.append(word[0])\n",
        "            label2id.append(classDict[word[0]])\n",
        "            sentence = re.sub(word[0]+'\\t', '', line)\n",
        "            sentences.append(sentence)\n",
        "            # print(sentences)\n",
        "    print('read file complete')\n",
        "    \n",
        "    return sentences, labels"
      ],
      "metadata": {
        "id": "zEivLzig-a1b"
      },
      "execution_count": 368,
      "outputs": []
    },
    {
      "cell_type": "code",
      "source": [
        "sentences, labels = read_File()"
      ],
      "metadata": {
        "colab": {
          "base_uri": "https://localhost:8080/"
        },
        "id": "xQYD3c8C-pWy",
        "outputId": "48c7119d-7bbc-4323-a435-b5bd9735367e"
      },
      "execution_count": 369,
      "outputs": [
        {
          "output_type": "stream",
          "name": "stdout",
          "text": [
            "read file complete\n"
          ]
        }
      ]
    },
    {
      "cell_type": "code",
      "source": [
        "import pandas as pd\n",
        "\n",
        "data = {'label': labels,\n",
        "        'sentence': sentences\n",
        "        }\n",
        "df = pd.DataFrame(data, columns = ['label', 'sentence'])\n",
        "\n",
        "df.head(25)\n",
        "     "
      ],
      "metadata": {
        "colab": {
          "base_uri": "https://localhost:8080/",
          "height": 833
        },
        "id": "v4aqchwRAj_8",
        "outputId": "987af407-61bc-465c-cdea-d174f45968e5"
      },
      "execution_count": 370,
      "outputs": [
        {
          "output_type": "execute_result",
          "data": {
            "text/plain": [
              "   label                                           sentence\n",
              "0    ntr                         ntr  amra sobhai raji!!!\\n\n",
              "1    ntr                          ntr  ajke ki amra jabo?\\n\n",
              "2    ntr                   ntr  ajke ki argentine jitbe??\\n\n",
              "3    pos                       pos  amra sobhai valo achi\\n\n",
              "4    pos                        pos  ajke valo kaj hoyche\\n\n",
              "5    pos       pos  ekjon bangladeshi hisabe ami gorbitho\\n\n",
              "6    neg                       neg  india re kau maira la\\n\n",
              "7    neg                  neg  chore chore masthotho bhai\\n\n",
              "8    neg             neg  pic to dili na hala kmne kortam\\n\n",
              "9    pos           pos  taskin re rhakr jonno dhonnobhad.\\n\n",
              "10   neg                       neg  uni ekta chor,batpar.\\n\n",
              "11   neg                             neg  lok ta onk karp\\n\n",
              "12   ntr                ntr  Cashback pai nai kan nagad a\\n\n",
              "13   ntr        ntr  Ajk o ki mystery box er offer thakbe\\n\n",
              "14   pos                                  pos  Love daraz\\n\n",
              "15   ntr         ntr  13-12-22 nagad/bkash cash back ace?\\n\n",
              "16   ntr  ntr  daraz app a grameenphone a 122 taka recha...\n",
              "17   pos                          pos  Tou up offer chai?\\n\n",
              "18   neg                          neg  Amar to 12 12 miss\\n\n",
              "19   ntr  ntr  12, 12 order offer ki cash on delivery te...\n",
              "20   neg                        neg  Kon baler misty box?\\n\n",
              "21   neg                neg  58 theke try Kore o pelam na\\n\n",
              "22   pos                  pos  Er modde lekha 4theke 5 ta\\n\n",
              "23   neg                   neg  sme payment krte giye asb\\n\n",
              "24   ntr                               ntr  2 ta ki dibe?\\n"
            ],
            "text/html": [
              "\n",
              "  <div id=\"df-82c8cf17-8f7a-4b33-92f0-e8f905f2ded5\">\n",
              "    <div class=\"colab-df-container\">\n",
              "      <div>\n",
              "<style scoped>\n",
              "    .dataframe tbody tr th:only-of-type {\n",
              "        vertical-align: middle;\n",
              "    }\n",
              "\n",
              "    .dataframe tbody tr th {\n",
              "        vertical-align: top;\n",
              "    }\n",
              "\n",
              "    .dataframe thead th {\n",
              "        text-align: right;\n",
              "    }\n",
              "</style>\n",
              "<table border=\"1\" class=\"dataframe\">\n",
              "  <thead>\n",
              "    <tr style=\"text-align: right;\">\n",
              "      <th></th>\n",
              "      <th>label</th>\n",
              "      <th>sentence</th>\n",
              "    </tr>\n",
              "  </thead>\n",
              "  <tbody>\n",
              "    <tr>\n",
              "      <th>0</th>\n",
              "      <td>ntr</td>\n",
              "      <td>ntr  amra sobhai raji!!!\\n</td>\n",
              "    </tr>\n",
              "    <tr>\n",
              "      <th>1</th>\n",
              "      <td>ntr</td>\n",
              "      <td>ntr  ajke ki amra jabo?\\n</td>\n",
              "    </tr>\n",
              "    <tr>\n",
              "      <th>2</th>\n",
              "      <td>ntr</td>\n",
              "      <td>ntr  ajke ki argentine jitbe??\\n</td>\n",
              "    </tr>\n",
              "    <tr>\n",
              "      <th>3</th>\n",
              "      <td>pos</td>\n",
              "      <td>pos  amra sobhai valo achi\\n</td>\n",
              "    </tr>\n",
              "    <tr>\n",
              "      <th>4</th>\n",
              "      <td>pos</td>\n",
              "      <td>pos  ajke valo kaj hoyche\\n</td>\n",
              "    </tr>\n",
              "    <tr>\n",
              "      <th>5</th>\n",
              "      <td>pos</td>\n",
              "      <td>pos  ekjon bangladeshi hisabe ami gorbitho\\n</td>\n",
              "    </tr>\n",
              "    <tr>\n",
              "      <th>6</th>\n",
              "      <td>neg</td>\n",
              "      <td>neg  india re kau maira la\\n</td>\n",
              "    </tr>\n",
              "    <tr>\n",
              "      <th>7</th>\n",
              "      <td>neg</td>\n",
              "      <td>neg  chore chore masthotho bhai\\n</td>\n",
              "    </tr>\n",
              "    <tr>\n",
              "      <th>8</th>\n",
              "      <td>neg</td>\n",
              "      <td>neg  pic to dili na hala kmne kortam\\n</td>\n",
              "    </tr>\n",
              "    <tr>\n",
              "      <th>9</th>\n",
              "      <td>pos</td>\n",
              "      <td>pos  taskin re rhakr jonno dhonnobhad.\\n</td>\n",
              "    </tr>\n",
              "    <tr>\n",
              "      <th>10</th>\n",
              "      <td>neg</td>\n",
              "      <td>neg  uni ekta chor,batpar.\\n</td>\n",
              "    </tr>\n",
              "    <tr>\n",
              "      <th>11</th>\n",
              "      <td>neg</td>\n",
              "      <td>neg  lok ta onk karp\\n</td>\n",
              "    </tr>\n",
              "    <tr>\n",
              "      <th>12</th>\n",
              "      <td>ntr</td>\n",
              "      <td>ntr  Cashback pai nai kan nagad a\\n</td>\n",
              "    </tr>\n",
              "    <tr>\n",
              "      <th>13</th>\n",
              "      <td>ntr</td>\n",
              "      <td>ntr  Ajk o ki mystery box er offer thakbe\\n</td>\n",
              "    </tr>\n",
              "    <tr>\n",
              "      <th>14</th>\n",
              "      <td>pos</td>\n",
              "      <td>pos  Love daraz\\n</td>\n",
              "    </tr>\n",
              "    <tr>\n",
              "      <th>15</th>\n",
              "      <td>ntr</td>\n",
              "      <td>ntr  13-12-22 nagad/bkash cash back ace?\\n</td>\n",
              "    </tr>\n",
              "    <tr>\n",
              "      <th>16</th>\n",
              "      <td>ntr</td>\n",
              "      <td>ntr  daraz app a grameenphone a 122 taka recha...</td>\n",
              "    </tr>\n",
              "    <tr>\n",
              "      <th>17</th>\n",
              "      <td>pos</td>\n",
              "      <td>pos  Tou up offer chai?\\n</td>\n",
              "    </tr>\n",
              "    <tr>\n",
              "      <th>18</th>\n",
              "      <td>neg</td>\n",
              "      <td>neg  Amar to 12 12 miss\\n</td>\n",
              "    </tr>\n",
              "    <tr>\n",
              "      <th>19</th>\n",
              "      <td>ntr</td>\n",
              "      <td>ntr  12, 12 order offer ki cash on delivery te...</td>\n",
              "    </tr>\n",
              "    <tr>\n",
              "      <th>20</th>\n",
              "      <td>neg</td>\n",
              "      <td>neg  Kon baler misty box?\\n</td>\n",
              "    </tr>\n",
              "    <tr>\n",
              "      <th>21</th>\n",
              "      <td>neg</td>\n",
              "      <td>neg  58 theke try Kore o pelam na\\n</td>\n",
              "    </tr>\n",
              "    <tr>\n",
              "      <th>22</th>\n",
              "      <td>pos</td>\n",
              "      <td>pos  Er modde lekha 4theke 5 ta\\n</td>\n",
              "    </tr>\n",
              "    <tr>\n",
              "      <th>23</th>\n",
              "      <td>neg</td>\n",
              "      <td>neg  sme payment krte giye asb\\n</td>\n",
              "    </tr>\n",
              "    <tr>\n",
              "      <th>24</th>\n",
              "      <td>ntr</td>\n",
              "      <td>ntr  2 ta ki dibe?\\n</td>\n",
              "    </tr>\n",
              "  </tbody>\n",
              "</table>\n",
              "</div>\n",
              "      <button class=\"colab-df-convert\" onclick=\"convertToInteractive('df-82c8cf17-8f7a-4b33-92f0-e8f905f2ded5')\"\n",
              "              title=\"Convert this dataframe to an interactive table.\"\n",
              "              style=\"display:none;\">\n",
              "        \n",
              "  <svg xmlns=\"http://www.w3.org/2000/svg\" height=\"24px\"viewBox=\"0 0 24 24\"\n",
              "       width=\"24px\">\n",
              "    <path d=\"M0 0h24v24H0V0z\" fill=\"none\"/>\n",
              "    <path d=\"M18.56 5.44l.94 2.06.94-2.06 2.06-.94-2.06-.94-.94-2.06-.94 2.06-2.06.94zm-11 1L8.5 8.5l.94-2.06 2.06-.94-2.06-.94L8.5 2.5l-.94 2.06-2.06.94zm10 10l.94 2.06.94-2.06 2.06-.94-2.06-.94-.94-2.06-.94 2.06-2.06.94z\"/><path d=\"M17.41 7.96l-1.37-1.37c-.4-.4-.92-.59-1.43-.59-.52 0-1.04.2-1.43.59L10.3 9.45l-7.72 7.72c-.78.78-.78 2.05 0 2.83L4 21.41c.39.39.9.59 1.41.59.51 0 1.02-.2 1.41-.59l7.78-7.78 2.81-2.81c.8-.78.8-2.07 0-2.86zM5.41 20L4 18.59l7.72-7.72 1.47 1.35L5.41 20z\"/>\n",
              "  </svg>\n",
              "      </button>\n",
              "      \n",
              "  <style>\n",
              "    .colab-df-container {\n",
              "      display:flex;\n",
              "      flex-wrap:wrap;\n",
              "      gap: 12px;\n",
              "    }\n",
              "\n",
              "    .colab-df-convert {\n",
              "      background-color: #E8F0FE;\n",
              "      border: none;\n",
              "      border-radius: 50%;\n",
              "      cursor: pointer;\n",
              "      display: none;\n",
              "      fill: #1967D2;\n",
              "      height: 32px;\n",
              "      padding: 0 0 0 0;\n",
              "      width: 32px;\n",
              "    }\n",
              "\n",
              "    .colab-df-convert:hover {\n",
              "      background-color: #E2EBFA;\n",
              "      box-shadow: 0px 1px 2px rgba(60, 64, 67, 0.3), 0px 1px 3px 1px rgba(60, 64, 67, 0.15);\n",
              "      fill: #174EA6;\n",
              "    }\n",
              "\n",
              "    [theme=dark] .colab-df-convert {\n",
              "      background-color: #3B4455;\n",
              "      fill: #D2E3FC;\n",
              "    }\n",
              "\n",
              "    [theme=dark] .colab-df-convert:hover {\n",
              "      background-color: #434B5C;\n",
              "      box-shadow: 0px 1px 3px 1px rgba(0, 0, 0, 0.15);\n",
              "      filter: drop-shadow(0px 1px 2px rgba(0, 0, 0, 0.3));\n",
              "      fill: #FFFFFF;\n",
              "    }\n",
              "  </style>\n",
              "\n",
              "      <script>\n",
              "        const buttonEl =\n",
              "          document.querySelector('#df-82c8cf17-8f7a-4b33-92f0-e8f905f2ded5 button.colab-df-convert');\n",
              "        buttonEl.style.display =\n",
              "          google.colab.kernel.accessAllowed ? 'block' : 'none';\n",
              "\n",
              "        async function convertToInteractive(key) {\n",
              "          const element = document.querySelector('#df-82c8cf17-8f7a-4b33-92f0-e8f905f2ded5');\n",
              "          const dataTable =\n",
              "            await google.colab.kernel.invokeFunction('convertToInteractive',\n",
              "                                                     [key], {});\n",
              "          if (!dataTable) return;\n",
              "\n",
              "          const docLinkHtml = 'Like what you see? Visit the ' +\n",
              "            '<a target=\"_blank\" href=https://colab.research.google.com/notebooks/data_table.ipynb>data table notebook</a>'\n",
              "            + ' to learn more about interactive tables.';\n",
              "          element.innerHTML = '';\n",
              "          dataTable['output_type'] = 'display_data';\n",
              "          await google.colab.output.renderOutput(dataTable, element);\n",
              "          const docLink = document.createElement('div');\n",
              "          docLink.innerHTML = docLinkHtml;\n",
              "          element.appendChild(docLink);\n",
              "        }\n",
              "      </script>\n",
              "    </div>\n",
              "  </div>\n",
              "  "
            ]
          },
          "metadata": {},
          "execution_count": 370
        }
      ]
    },
    {
      "cell_type": "code",
      "source": [
        "df.describe(include='all')"
      ],
      "metadata": {
        "colab": {
          "base_uri": "https://localhost:8080/",
          "height": 175
        },
        "id": "jmF9CLlTAqtd",
        "outputId": "f94def3e-86cb-4e0c-ab15-9b95bbe05607"
      },
      "execution_count": 371,
      "outputs": [
        {
          "output_type": "execute_result",
          "data": {
            "text/plain": [
              "       label                    sentence\n",
              "count    200                         200\n",
              "unique     3                         200\n",
              "top      pos  ntr  amra sobhai raji!!!\\n\n",
              "freq      91                           1"
            ],
            "text/html": [
              "\n",
              "  <div id=\"df-4c84d7ec-e5a8-4edc-a092-f896b5a2b8ad\">\n",
              "    <div class=\"colab-df-container\">\n",
              "      <div>\n",
              "<style scoped>\n",
              "    .dataframe tbody tr th:only-of-type {\n",
              "        vertical-align: middle;\n",
              "    }\n",
              "\n",
              "    .dataframe tbody tr th {\n",
              "        vertical-align: top;\n",
              "    }\n",
              "\n",
              "    .dataframe thead th {\n",
              "        text-align: right;\n",
              "    }\n",
              "</style>\n",
              "<table border=\"1\" class=\"dataframe\">\n",
              "  <thead>\n",
              "    <tr style=\"text-align: right;\">\n",
              "      <th></th>\n",
              "      <th>label</th>\n",
              "      <th>sentence</th>\n",
              "    </tr>\n",
              "  </thead>\n",
              "  <tbody>\n",
              "    <tr>\n",
              "      <th>count</th>\n",
              "      <td>200</td>\n",
              "      <td>200</td>\n",
              "    </tr>\n",
              "    <tr>\n",
              "      <th>unique</th>\n",
              "      <td>3</td>\n",
              "      <td>200</td>\n",
              "    </tr>\n",
              "    <tr>\n",
              "      <th>top</th>\n",
              "      <td>pos</td>\n",
              "      <td>ntr  amra sobhai raji!!!\\n</td>\n",
              "    </tr>\n",
              "    <tr>\n",
              "      <th>freq</th>\n",
              "      <td>91</td>\n",
              "      <td>1</td>\n",
              "    </tr>\n",
              "  </tbody>\n",
              "</table>\n",
              "</div>\n",
              "      <button class=\"colab-df-convert\" onclick=\"convertToInteractive('df-4c84d7ec-e5a8-4edc-a092-f896b5a2b8ad')\"\n",
              "              title=\"Convert this dataframe to an interactive table.\"\n",
              "              style=\"display:none;\">\n",
              "        \n",
              "  <svg xmlns=\"http://www.w3.org/2000/svg\" height=\"24px\"viewBox=\"0 0 24 24\"\n",
              "       width=\"24px\">\n",
              "    <path d=\"M0 0h24v24H0V0z\" fill=\"none\"/>\n",
              "    <path d=\"M18.56 5.44l.94 2.06.94-2.06 2.06-.94-2.06-.94-.94-2.06-.94 2.06-2.06.94zm-11 1L8.5 8.5l.94-2.06 2.06-.94-2.06-.94L8.5 2.5l-.94 2.06-2.06.94zm10 10l.94 2.06.94-2.06 2.06-.94-2.06-.94-.94-2.06-.94 2.06-2.06.94z\"/><path d=\"M17.41 7.96l-1.37-1.37c-.4-.4-.92-.59-1.43-.59-.52 0-1.04.2-1.43.59L10.3 9.45l-7.72 7.72c-.78.78-.78 2.05 0 2.83L4 21.41c.39.39.9.59 1.41.59.51 0 1.02-.2 1.41-.59l7.78-7.78 2.81-2.81c.8-.78.8-2.07 0-2.86zM5.41 20L4 18.59l7.72-7.72 1.47 1.35L5.41 20z\"/>\n",
              "  </svg>\n",
              "      </button>\n",
              "      \n",
              "  <style>\n",
              "    .colab-df-container {\n",
              "      display:flex;\n",
              "      flex-wrap:wrap;\n",
              "      gap: 12px;\n",
              "    }\n",
              "\n",
              "    .colab-df-convert {\n",
              "      background-color: #E8F0FE;\n",
              "      border: none;\n",
              "      border-radius: 50%;\n",
              "      cursor: pointer;\n",
              "      display: none;\n",
              "      fill: #1967D2;\n",
              "      height: 32px;\n",
              "      padding: 0 0 0 0;\n",
              "      width: 32px;\n",
              "    }\n",
              "\n",
              "    .colab-df-convert:hover {\n",
              "      background-color: #E2EBFA;\n",
              "      box-shadow: 0px 1px 2px rgba(60, 64, 67, 0.3), 0px 1px 3px 1px rgba(60, 64, 67, 0.15);\n",
              "      fill: #174EA6;\n",
              "    }\n",
              "\n",
              "    [theme=dark] .colab-df-convert {\n",
              "      background-color: #3B4455;\n",
              "      fill: #D2E3FC;\n",
              "    }\n",
              "\n",
              "    [theme=dark] .colab-df-convert:hover {\n",
              "      background-color: #434B5C;\n",
              "      box-shadow: 0px 1px 3px 1px rgba(0, 0, 0, 0.15);\n",
              "      filter: drop-shadow(0px 1px 2px rgba(0, 0, 0, 0.3));\n",
              "      fill: #FFFFFF;\n",
              "    }\n",
              "  </style>\n",
              "\n",
              "      <script>\n",
              "        const buttonEl =\n",
              "          document.querySelector('#df-4c84d7ec-e5a8-4edc-a092-f896b5a2b8ad button.colab-df-convert');\n",
              "        buttonEl.style.display =\n",
              "          google.colab.kernel.accessAllowed ? 'block' : 'none';\n",
              "\n",
              "        async function convertToInteractive(key) {\n",
              "          const element = document.querySelector('#df-4c84d7ec-e5a8-4edc-a092-f896b5a2b8ad');\n",
              "          const dataTable =\n",
              "            await google.colab.kernel.invokeFunction('convertToInteractive',\n",
              "                                                     [key], {});\n",
              "          if (!dataTable) return;\n",
              "\n",
              "          const docLinkHtml = 'Like what you see? Visit the ' +\n",
              "            '<a target=\"_blank\" href=https://colab.research.google.com/notebooks/data_table.ipynb>data table notebook</a>'\n",
              "            + ' to learn more about interactive tables.';\n",
              "          element.innerHTML = '';\n",
              "          dataTable['output_type'] = 'display_data';\n",
              "          await google.colab.output.renderOutput(dataTable, element);\n",
              "          const docLink = document.createElement('div');\n",
              "          docLink.innerHTML = docLinkHtml;\n",
              "          element.appendChild(docLink);\n",
              "        }\n",
              "      </script>\n",
              "    </div>\n",
              "  </div>\n",
              "  "
            ]
          },
          "metadata": {},
          "execution_count": 371
        }
      ]
    },
    {
      "cell_type": "code",
      "source": [
        "df['label'].value_counts().plot(kind=\"bar\", rot=0)"
      ],
      "metadata": {
        "colab": {
          "base_uri": "https://localhost:8080/",
          "height": 364
        },
        "id": "y3u3OPVSA9hX",
        "outputId": "6f55e357-8020-4d40-b97e-7a5aa1c35af8"
      },
      "execution_count": 372,
      "outputs": [
        {
          "output_type": "execute_result",
          "data": {
            "text/plain": [
              "<matplotlib.axes._subplots.AxesSubplot at 0x7faafeb1adf0>"
            ]
          },
          "metadata": {},
          "execution_count": 372
        },
        {
          "output_type": "display_data",
          "data": {
            "text/plain": [
              "<Figure size 576x396 with 1 Axes>"
            ],
            "image/png": "[encoded data removed]"
          },
          "metadata": {}
        }
      ]
    },
    {
      "cell_type": "code",
      "source": [
        "def cleanTxt(text):\n",
        "    text = re.sub(r'[^\\w\\s]', '', text) \n",
        "    text=text.lower()\n",
        "    \n",
        "    text=re.sub(r'[0-9\\.]+', '',text)\n",
        "    stop_words = open('./stop1.txt', 'r',\n",
        "                      encoding='utf-8').read().split()\n",
        "    result = text.split() \n",
        "    text = [word.strip()\n",
        "                           for word in result if word not in stop_words]\n",
        "    text = \" \".join(text)                 \n",
        "    # text=[wordnet.lemmatize(word)for word in text if word not in set(stopwords.words('english'))]\n",
        "    # text=' '.join(text)\n",
        "    return text"
      ],
      "metadata": {
        "id": "6bYc1VbBBDei"
      },
      "execution_count": 373,
      "outputs": []
    },
    {
      "cell_type": "code",
      "source": [
        "df.loc[55,'sentence']"
      ],
      "metadata": {
        "colab": {
          "base_uri": "https://localhost:8080/",
          "height": 36
        },
        "id": "9QEkhVJuBH2z",
        "outputId": "d0069693-5870-4fdc-ff2c-cc78ba71e130"
      },
      "execution_count": 374,
      "outputs": [
        {
          "output_type": "execute_result",
          "data": {
            "text/plain": [
              "'ntr  Ki vai etotaratari sesh hoi kmne matro 5 second e sesh hoiye gelo\\n'"
            ],
            "application/vnd.google.colaboratory.intrinsic+json": {
              "type": "string"
            }
          },
          "metadata": {},
          "execution_count": 374
        }
      ]
    },
    {
      "cell_type": "code",
      "source": [
        "for i, sent  in enumerate(df['sentence'].tolist()):\n",
        "    df.loc[i,'clean_sentence'] = cleanTxt(sent)"
      ],
      "metadata": {
        "id": "NE9qCaJGBT8b"
      },
      "execution_count": 375,
      "outputs": []
    },
    {
      "cell_type": "code",
      "source": [
        "test = df.loc[55,'clean_sentence']\n",
        "test"
      ],
      "metadata": {
        "colab": {
          "base_uri": "https://localhost:8080/",
          "height": 36
        },
        "id": "LJ4dqYmnBYhO",
        "outputId": "7f9d7656-41b8-4de1-98a9-684e84a453dd"
      },
      "execution_count": 376,
      "outputs": [
        {
          "output_type": "execute_result",
          "data": {
            "text/plain": [
              "'etotaratari sesh hoi kmne matro sesh hoiye gelo'"
            ],
            "application/vnd.google.colaboratory.intrinsic+json": {
              "type": "string"
            }
          },
          "metadata": {},
          "execution_count": 376
        }
      ]
    },
    {
      "cell_type": "code",
      "source": [
        "def tokenized_data(sent):\n",
        "    tokenized_text = sent.split()\n",
        "    return tokenized_text"
      ],
      "metadata": {
        "id": "D5CnakKQBn6p"
      },
      "execution_count": 377,
      "outputs": []
    },
    {
      "cell_type": "code",
      "source": [
        "stop_words = {'amra','ki','ekjon','ntr','pos','neg','to','ta','re','ami','pai','nai','kan','a','o','ki','er','to','on','te','kon','ta','ai','tar','kora','but','second','arr','vai','allah','go','kno','keno','ar','er','ata','da','aj','vai','e','what','bai','click','krte','box','kinar','r','rr','klk','je','kalky','but','ekn','ai','step','by','kbe','ti','sei','vi','jutte','koto','tym','eeeeeeee','jy','ar','sada','kala','for','daraz','den','dada','bijho','hase','vi','kivabe','bhaiya','dilam','eyy','k','plz','vaiya','vay','vaia','viya','vai','Towhid','bro','crush','sm','Bhai','maybe','bhi','bi','sm','r','just','please','oh','hello','plz','nki','sorry','jaan','but','brother','imo','vhi','tka','time','common'}\n",
        "\n",
        "def remove_stop_words(text):\n",
        "    text = [w for w in text if not w in stop_words]\n",
        "    text = ' '.join(text)\n",
        "    return text"
      ],
      "metadata": {
        "id": "9tgUzMU-Bsj0"
      },
      "execution_count": 378,
      "outputs": []
    },
    {
      "cell_type": "code",
      "source": [
        "t_data = tokenized_data(test)\n",
        "r_word = remove_stop_words(t_data)\n",
        "print('befor :', test)\n",
        "print('after :', r_word)"
      ],
      "metadata": {
        "id": "pPIwAACcErGK",
        "outputId": "35b7be3f-aa8e-4cb9-f69f-37a12fc1f403",
        "colab": {
          "base_uri": "https://localhost:8080/"
        }
      },
      "execution_count": 379,
      "outputs": [
        {
          "output_type": "stream",
          "name": "stdout",
          "text": [
            "befor : etotaratari sesh hoi kmne matro sesh hoiye gelo\n",
            "after : etotaratari sesh hoi kmne matro sesh hoiye gelo\n"
          ]
        }
      ]
    },
    {
      "cell_type": "code",
      "source": [
        "df['clean_data'] = [remove_stop_words(tokenized_data(sent)) for sent in df['clean_sentence'].tolist()]\n",
        "#del df['sentence']\n",
        "df.to_csv('sentiment_analysis_clean_data_new.csv', encoding='utf-8', index=False)\n"
      ],
      "metadata": {
        "id": "jNfFrWA3BjKs"
      },
      "execution_count": 380,
      "outputs": []
    },
    {
      "cell_type": "code",
      "source": [
        "from sklearn.feature_extraction.text import CountVectorizer\n",
        "stpGram = {}\n",
        "word_vectorizerGram = CountVectorizer(analyzer='word', ngram_range=(1, 3), min_df=1, lowercase=False,\n",
        "                                          token_pattern=u'[\\S]+', tokenizer=None)\n",
        "word_vectorizerGram.fit_transform(df['clean_sentence'])\n",
        "stpGram = word_vectorizerGram.get_feature_names()\n",
        "print(len(stpGram))"
      ],
      "metadata": {
        "id": "it0AyZAFEwqL",
        "colab": {
          "base_uri": "https://localhost:8080/"
        },
        "outputId": "9b593e3f-261a-461b-8730-aed3485966d6"
      },
      "execution_count": 381,
      "outputs": [
        {
          "output_type": "stream",
          "name": "stdout",
          "text": [
            "2031\n"
          ]
        },
        {
          "output_type": "stream",
          "name": "stderr",
          "text": [
            "/usr/local/lib/python3.8/dist-packages/sklearn/utils/deprecation.py:87: FutureWarning: Function get_feature_names is deprecated; get_feature_names is deprecated in 1.0 and will be removed in 1.2. Please use get_feature_names_out instead.\n",
            "  warnings.warn(msg, category=FutureWarning)\n"
          ]
        }
      ]
    },
    {
      "cell_type": "code",
      "source": [
        "word_vectorizerGram_rsw = CountVectorizer(analyzer='word', ngram_range=(1, 3), min_df=1, lowercase=False,\n",
        "                                          token_pattern=u'[\\S]+', tokenizer=None)\n",
        "word_vectorizerGram_rsw.fit_transform(df['clean_data'])\n",
        "stpGram_rsw = word_vectorizerGram_rsw.get_feature_names()\n",
        "print(len(stpGram_rsw))\n",
        "print('sample of bigram : ',stpGram_rsw[10])"
      ],
      "metadata": {
        "colab": {
          "base_uri": "https://localhost:8080/"
        },
        "id": "2zRU83dZE9aB",
        "outputId": "7c3f4a5a-9bec-4b52-e2ba-62b1a979180d"
      },
      "execution_count": 382,
      "outputs": [
        {
          "output_type": "stream",
          "name": "stdout",
          "text": [
            "2031\n",
            "sample of bigram :  ache seta\n"
          ]
        }
      ]
    },
    {
      "cell_type": "code",
      "source": [
        "import numpy as np\n",
        "def sentence_to_vector_transform(line, stpGram):\n",
        "    vec = CountVectorizer(analyzer='word', ngram_range=(1, 2), min_df=1, lowercase=False, token_pattern=u'[\\S]+',\n",
        "                            tokenizer=None, vocabulary=stpGram)\n",
        "    tList = []\n",
        "    tList.append(line)\n",
        "    sent = vec.transform(tList)\n",
        "    sent = sent.toarray()\n",
        "    sent = np.squeeze(np.asarray(sent))\n",
        "    return sent"
      ],
      "metadata": {
        "id": "crZpLbukGInL"
      },
      "execution_count": 383,
      "outputs": []
    },
    {
      "cell_type": "code",
      "source": [
        "def sentence_to_vector(data, stpGram):\n",
        "    dataForSVM = []\n",
        "    colName = []\n",
        "    dataVec = []\n",
        "    dataVec.append(colName)\n",
        "    \n",
        "    for idx, sent in enumerate(data):\n",
        "        \n",
        "        sent = sentence_to_vector_transform(sent, stpGram)\n",
        "        sentLst = list(sent)\n",
        "        dtList = []\n",
        "        try:\n",
        "            dtList.append(label2id[idx])\n",
        "            dataForSVM.append(sent)\n",
        "        except:\n",
        "            print(idx)\n",
        "        for item in sentLst:\n",
        "            dtList.append(item)\n",
        "        lengthOfEV = len(dtList)\n",
        "        dataVec.append(dtList)\n",
        "        \n",
        "    return dataForSVM"
      ],
      "metadata": {
        "id": "firBdSZcGNn_"
      },
      "execution_count": 384,
      "outputs": []
    },
    {
      "cell_type": "code",
      "source": [
        "dataForSVM = sentence_to_vector(df['clean_data'], stpGram_rsw)\n",
        "dataForSVM[0:4]\n"
      ],
      "metadata": {
        "colab": {
          "base_uri": "https://localhost:8080/"
        },
        "id": "mNmke1nfGRpl",
        "outputId": "3503f8b8-8a19-4c4a-b5c6-5198c81bf24f"
      },
      "execution_count": 385,
      "outputs": [
        {
          "output_type": "execute_result",
          "data": {
            "text/plain": [
              "[array([0, 0, 0, ..., 0, 0, 0]),\n",
              " array([0, 0, 0, ..., 0, 0, 0]),\n",
              " array([0, 0, 0, ..., 0, 0, 0]),\n",
              " array([0, 0, 0, ..., 0, 0, 0])]"
            ]
          },
          "metadata": {},
          "execution_count": 385
        }
      ]
    },
    {
      "cell_type": "code",
      "source": [
        "from sklearn.model_selection import train_test_split\n",
        "X_train, X_test, y_train, y_test = train_test_split(dataForSVM, label2id, test_size=0.2, random_state=0)"
      ],
      "metadata": {
        "id": "xbp806BSGZ8l"
      },
      "execution_count": 386,
      "outputs": []
    },
    {
      "cell_type": "code",
      "source": [
        "from sklearn.svm import SVC\n",
        "C = 1.0  # SVM regularization parameter\n",
        "linear_svc = SVC(kernel='linear', C=C)\n",
        "linear_svc = linear_svc.fit(X_train, y_train)"
      ],
      "metadata": {
        "id": "4FhP_CClGb7P"
      },
      "execution_count": 387,
      "outputs": []
    },
    {
      "cell_type": "code",
      "source": [
        "import joblib\n",
        "import joblib as jb\n",
        "filename = 'svc_model.sav'\n",
        "jb.dump(linear_svc, filename)\n"
      ],
      "metadata": {
        "colab": {
          "base_uri": "https://localhost:8080/"
        },
        "id": "f_UB8refGhKp",
        "outputId": "f11eb373-65ae-4f42-e51c-8072da7ed48a"
      },
      "execution_count": 388,
      "outputs": [
        {
          "output_type": "execute_result",
          "data": {
            "text/plain": [
              "['svc_model.sav']"
            ]
          },
          "metadata": {},
          "execution_count": 388
        }
      ]
    },
    {
      "cell_type": "code",
      "source": [
        "\n",
        "from sklearn import metrics\n",
        "from sklearn.metrics import confusion_matrix\n",
        "\n",
        "def calculate_accuracy(kernel, model):\n",
        "    y_pred = model.predict(X_test)\n",
        "    #print the accuracy score of the model\n",
        "    print(kernel + \" accuracy : \",metrics.accuracy_score(y_test, y_pred, normalize = True))\n",
        "    score = confusion_matrix(y_test, y_pred)\n",
        "    print('confusion_matrix: \\n', score)"
      ],
      "metadata": {
        "id": "4-Fht7yHGk4s"
      },
      "execution_count": 389,
      "outputs": []
    },
    {
      "cell_type": "code",
      "source": [
        "\n",
        "from yellowbrick.classifier import ClassificationReport\n",
        "# Instantiate the classification model and visualizer\n",
        "\n",
        "def report(model):\n",
        "    visualizer = ClassificationReport(model, classes=['Won','Loss'])\n",
        "    visualizer.fit(X_train, y_train) # Fit the training data to the visualizer\n",
        "    visualizer.score(X_test, y_test) # Evaluate the model on the test data\n",
        "    g = visualizer.poof() # Draw/show/poof the data"
      ],
      "metadata": {
        "id": "iRxAhbfvGszO"
      },
      "execution_count": 390,
      "outputs": []
    },
    {
      "cell_type": "code",
      "source": [
        "calculate_accuracy(kernel='linear', model=linear_svc)"
      ],
      "metadata": {
        "colab": {
          "base_uri": "https://localhost:8080/"
        },
        "id": "oJ_FZ7nQGuKX",
        "outputId": "bcdf7920-6445-40b8-9ba6-a4179056f457"
      },
      "execution_count": 391,
      "outputs": [
        {
          "output_type": "stream",
          "name": "stdout",
          "text": [
            "linear accuracy :  0.575\n",
            "confusion_matrix: \n",
            " [[ 4  4  0]\n",
            " [ 0 17  4]\n",
            " [ 3  6  2]]\n"
          ]
        }
      ]
    },
    {
      "cell_type": "code",
      "source": [
        "rbf_svc = SVC(kernel='rbf', gamma=0.7, C=C)\n",
        "rbf_svc = rbf_svc.fit(X_train, y_train)\n",
        "calculate_accuracy(kernel='rbf', model=rbf_svc)\n"
      ],
      "metadata": {
        "colab": {
          "base_uri": "https://localhost:8080/"
        },
        "id": "7Z9jM6efGzgj",
        "outputId": "4f661b24-a734-46bb-dcb6-1ed02182d039"
      },
      "execution_count": 392,
      "outputs": [
        {
          "output_type": "stream",
          "name": "stdout",
          "text": [
            "rbf accuracy :  0.525\n",
            "confusion_matrix: \n",
            " [[ 0  8  0]\n",
            " [ 0 21  0]\n",
            " [ 0 11  0]]\n"
          ]
        }
      ]
    },
    {
      "cell_type": "code",
      "source": [
        "\n",
        "poly_svc = SVC(kernel='poly', degree=3, C=C)\n",
        "poly_svc = poly_svc.fit(X_train, y_train)\n",
        "calculate_accuracy(kernel='rbf', model=poly_svc)"
      ],
      "metadata": {
        "colab": {
          "base_uri": "https://localhost:8080/"
        },
        "id": "EB7xB7i1G335",
        "outputId": "9bc940c4-bea9-4336-e6cc-69ec5d07e46f"
      },
      "execution_count": 393,
      "outputs": [
        {
          "output_type": "stream",
          "name": "stdout",
          "text": [
            "rbf accuracy :  0.525\n",
            "confusion_matrix: \n",
            " [[ 0  8  0]\n",
            " [ 0 21  0]\n",
            " [ 0 11  0]]\n"
          ]
        }
      ]
    },
    {
      "cell_type": "code",
      "source": [
        "def calculate_accuracy(predictions, actual, modelName):\n",
        "    total = len(predictions)\n",
        "    idx = 0\n",
        "    error = 0\n",
        "    almostSame = 0\n",
        "    while idx < total:\n",
        "        if predictions[idx] != actual[idx]:\n",
        "            p = predictions[idx]\n",
        "            a = actual[idx]\n",
        "            # print('actual=',y_test[idx],'  predict=',predictions[idx])\n",
        "            if ((a == 0 or a == 1) and (p == 0 or p == 1)) or ((a == 3 or a == 4) and (p == 3 or p == 4)):\n",
        "                almostSame += 1\n",
        "            else:\n",
        "                error += 1\n",
        "        idx += 1\n",
        "    print('\\n', modelName, '\\n')\n",
        "    print(\"total=\", total)\n",
        "    print(\"error=\", error)\n",
        "    print(\"accuracy = \", ((total - error) * 100) / total)\n",
        "    print('almost same = ', almostSame)\n",
        "    print(\"actual accracy = \", ((total - error - almostSame) * 100) / total)"
      ],
      "metadata": {
        "id": "iYp7jNtnG7rA"
      },
      "execution_count": 394,
      "outputs": []
    },
    {
      "cell_type": "code",
      "source": [
        "\n",
        "y_pred = linear_svc.predict(X_test)\n",
        "calculate_accuracy(y_pred, y_test, 'Linear')\n",
        "\n",
        "y_pred_rbf = rbf_svc.predict(X_test)\n",
        "calculate_accuracy(y_pred_rbf, y_test, 'rbf_svc')\n",
        "\n",
        "y_pred_poly = poly_svc.predict(X_test)\n",
        "calculate_accuracy(y_pred_poly, y_test, 'poly_svc')"
      ],
      "metadata": {
        "colab": {
          "base_uri": "https://localhost:8080/"
        },
        "id": "-ZPgHo60HE57",
        "outputId": "c0d3d58b-ef71-44b5-8073-f55b3d290222"
      },
      "execution_count": 395,
      "outputs": [
        {
          "output_type": "stream",
          "name": "stdout",
          "text": [
            "\n",
            " Linear \n",
            "\n",
            "total= 40\n",
            "error= 13\n",
            "accuracy =  67.5\n",
            "almost same =  4\n",
            "actual accracy =  57.5\n",
            "\n",
            " rbf_svc \n",
            "\n",
            "total= 40\n",
            "error= 11\n",
            "accuracy =  72.5\n",
            "almost same =  8\n",
            "actual accracy =  52.5\n",
            "\n",
            " poly_svc \n",
            "\n",
            "total= 40\n",
            "error= 11\n",
            "accuracy =  72.5\n",
            "almost same =  8\n",
            "actual accracy =  52.5\n"
          ]
        }
      ]
    },
    {
      "cell_type": "code",
      "source": [
        "from sklearn.ensemble import AdaBoostClassifier\n",
        "\n",
        "lr_list = [0.05, 0.075, 0.1, 0.25, 0.5, 0.75, 1]\n",
        "\n",
        "for learning_rate in lr_list:\n",
        "\n",
        "    abc = AdaBoostClassifier(n_estimators=50,\n",
        "                         learning_rate=learning_rate)\n",
        "    \n",
        "    abc_model = abc.fit(X_train, y_train)\n",
        "    \n",
        "    print(\"Learning rate: \", learning_rate)\n",
        "    print(\"Accuracy score (training): {0:.3f}\".format(abc_model.score(X_train, y_train)))\n",
        "    print(\"Accuracy score (validation): {0:.3f}\".format(abc_model.score(X_test, y_test)))"
      ],
      "metadata": {
        "colab": {
          "base_uri": "https://localhost:8080/"
        },
        "id": "FGdMJH2pHGxD",
        "outputId": "ed15a5d4-dcaa-4fe3-996c-59a458a9ec54"
      },
      "execution_count": 396,
      "outputs": [
        {
          "output_type": "stream",
          "name": "stdout",
          "text": [
            "Learning rate:  0.05\n",
            "Accuracy score (training): 0.713\n",
            "Accuracy score (validation): 0.625\n",
            "Learning rate:  0.075\n",
            "Accuracy score (training): 0.762\n",
            "Accuracy score (validation): 0.600\n",
            "Learning rate:  0.1\n",
            "Accuracy score (training): 0.769\n",
            "Accuracy score (validation): 0.600\n",
            "Learning rate:  0.25\n",
            "Accuracy score (training): 0.756\n",
            "Accuracy score (validation): 0.550\n",
            "Learning rate:  0.5\n",
            "Accuracy score (training): 0.812\n",
            "Accuracy score (validation): 0.575\n",
            "Learning rate:  0.75\n",
            "Accuracy score (training): 0.806\n",
            "Accuracy score (validation): 0.600\n",
            "Learning rate:  1\n",
            "Accuracy score (training): 0.844\n",
            "Accuracy score (validation): 0.600\n"
          ]
        }
      ]
    },
    {
      "cell_type": "code",
      "source": [
        "sent = 'order nisce na '\n",
        "\n",
        "sent = cleanTxt(sent)\n",
        "sent2vec =sentence_to_vector_transform(sent, stpGram)\n",
        "sent_list = list()\n",
        "sent_list.append(sent2vec)\n",
        "\n",
        "loaded_model = jb.load(filename)\n",
        "print(sent_list)\n",
        "predictions = loaded_model.predict(sent_list)\n",
        "print(predictions)\n",
        "\n",
        "ans = \"\"\n",
        "print(classDict)\n",
        "for key, value in classDict.items():\n",
        "    if value == predictions[0]:\n",
        "        ans = key\n",
        "print(ans)"
      ],
      "metadata": {
        "colab": {
          "base_uri": "https://localhost:8080/"
        },
        "id": "Dx-1Oj7OHMbA",
        "outputId": "3a0a983e-adf2-47d7-b737-10e55b517cb3"
      },
      "execution_count": 401,
      "outputs": [
        {
          "output_type": "stream",
          "name": "stdout",
          "text": [
            "[array([0, 0, 0, ..., 0, 0, 0])]\n",
            "[0]\n",
            "{'neg': 0, 'pos': 1, 'ntr': 2}\n",
            "neg\n"
          ]
        }
      ]
    }
  ],
  "metadata": {
    "colab": {
      "provenance": []
    },
    "kernelspec": {
      "display_name": "Python 3",
      "name": "python3"
    }
  },
  "nbformat": 4,
  "nbformat_minor": 0
}