{
  "cells": [
    {
      "cell_type": "code",
      "source": [
        "import os\n",
        "import nltk\n",
        "import pandas\n",
        "import re"
      ],
      "metadata": {
        "id": "SBjZzFH7leeT"
      },
      "execution_count": 40,
      "outputs": []
    },
    {
      "cell_type": "code",
      "source": [
        "classDict = {'neg': 0, 'pos': 1,'ntr': 2}\n",
        "label2id = []\n",
        "def read_File():\n",
        "    sentences = []\n",
        "    labels = []\n",
        "    scrip_dir = os.path.dirname(os.path.realpath('./data1.txt'))\n",
        "    rel_path = \"data1.txt\"\n",
        "    abs_file_path = os.path.join(scrip_dir, rel_path)\n",
        "    with open(abs_file_path, encoding='utf-8') as f:\n",
        "        for line in f:\n",
        "            word = line.split()\n",
        "            labels.append(word[0])\n",
        "            label2id.append(classDict[word[0]])\n",
        "            sentence = re.sub(word[0]+'\\t', '', line)\n",
        "            sentences.append(sentence)\n",
        "    print('read file complete')\n",
        "    \n",
        "    return sentences, labels"
      ],
      "metadata": {
        "id": "09nL2qKClkZW"
      },
      "execution_count": 41,
      "outputs": []
    },
    {
      "cell_type": "code",
      "source": [
        "sentences, labels = read_File()"
      ],
      "metadata": {
        "colab": {
          "base_uri": "https://localhost:8080/"
        },
        "id": "bPVYLw-IlxQj",
        "outputId": "226d3b94-e98d-4841-e506-d3f67e0f1ffc"
      },
      "execution_count": 42,
      "outputs": [
        {
          "output_type": "stream",
          "name": "stdout",
          "text": [
            "read file complete\n"
          ]
        }
      ]
    },
    {
      "cell_type": "code",
      "source": [
        "import pandas as pd\n",
        "\n",
        "data = {'label': labels,\n",
        "        'sentence': sentences\n",
        "        }\n",
        "df = pd.DataFrame(data, columns = ['label', 'sentence'])\n",
        "\n",
        "df.head(12)"
      ],
      "metadata": {
        "colab": {
          "base_uri": "https://localhost:8080/",
          "height": 426
        },
        "id": "8Qv7H8dKl2o9",
        "outputId": "cef2a025-56f9-4425-f21c-556ba0b1dae1"
      },
      "execution_count": 43,
      "outputs": [
        {
          "output_type": "execute_result",
          "data": {
            "text/plain": [
              "   label                                      sentence\n",
              "0    ntr                    ntr  amra sobhai raji!!!\\n\n",
              "1    ntr                     ntr  ajke ki amra jabo?\\n\n",
              "2    ntr              ntr  ajke ki argentine jitbe??\\n\n",
              "3    pos                  pos  amra sobhai valo achi\\n\n",
              "4    pos                   pos  ajke valo kaj hoyche\\n\n",
              "5    pos  pos  ekjon bangladeshi hisabe ami gorbitho\\n\n",
              "6    neg                  neg  india re kau maira la\\n\n",
              "7    neg             neg  chore chore masthotho bhai\\n\n",
              "8    neg        neg  pic to dili na hala kmne kortam\\n\n",
              "9    pos      pos  taskin re rhakr jonno dhonnobhad.\\n\n",
              "10   neg                  neg  uni ekta chor,batpar.\\n\n",
              "11   neg                          neg  lok ta onk karp"
            ],
            "text/html": [
              "\n",
              "  <div id=\"df-0210836c-f603-420c-8afa-56d942e6a2f6\">\n",
              "    <div class=\"colab-df-container\">\n",
              "      <div>\n",
              "<style scoped>\n",
              "    .dataframe tbody tr th:only-of-type {\n",
              "        vertical-align: middle;\n",
              "    }\n",
              "\n",
              "    .dataframe tbody tr th {\n",
              "        vertical-align: top;\n",
              "    }\n",
              "\n",
              "    .dataframe thead th {\n",
              "        text-align: right;\n",
              "    }\n",
              "</style>\n",
              "<table border=\"1\" class=\"dataframe\">\n",
              "  <thead>\n",
              "    <tr style=\"text-align: right;\">\n",
              "      <th></th>\n",
              "      <th>label</th>\n",
              "      <th>sentence</th>\n",
              "    </tr>\n",
              "  </thead>\n",
              "  <tbody>\n",
              "    <tr>\n",
              "      <th>0</th>\n",
              "      <td>ntr</td>\n",
              "      <td>ntr  amra sobhai raji!!!\\n</td>\n",
              "    </tr>\n",
              "    <tr>\n",
              "      <th>1</th>\n",
              "      <td>ntr</td>\n",
              "      <td>ntr  ajke ki amra jabo?\\n</td>\n",
              "    </tr>\n",
              "    <tr>\n",
              "      <th>2</th>\n",
              "      <td>ntr</td>\n",
              "      <td>ntr  ajke ki argentine jitbe??\\n</td>\n",
              "    </tr>\n",
              "    <tr>\n",
              "      <th>3</th>\n",
              "      <td>pos</td>\n",
              "      <td>pos  amra sobhai valo achi\\n</td>\n",
              "    </tr>\n",
              "    <tr>\n",
              "      <th>4</th>\n",
              "      <td>pos</td>\n",
              "      <td>pos  ajke valo kaj hoyche\\n</td>\n",
              "    </tr>\n",
              "    <tr>\n",
              "      <th>5</th>\n",
              "      <td>pos</td>\n",
              "      <td>pos  ekjon bangladeshi hisabe ami gorbitho\\n</td>\n",
              "    </tr>\n",
              "    <tr>\n",
              "      <th>6</th>\n",
              "      <td>neg</td>\n",
              "      <td>neg  india re kau maira la\\n</td>\n",
              "    </tr>\n",
              "    <tr>\n",
              "      <th>7</th>\n",
              "      <td>neg</td>\n",
              "      <td>neg  chore chore masthotho bhai\\n</td>\n",
              "    </tr>\n",
              "    <tr>\n",
              "      <th>8</th>\n",
              "      <td>neg</td>\n",
              "      <td>neg  pic to dili na hala kmne kortam\\n</td>\n",
              "    </tr>\n",
              "    <tr>\n",
              "      <th>9</th>\n",
              "      <td>pos</td>\n",
              "      <td>pos  taskin re rhakr jonno dhonnobhad.\\n</td>\n",
              "    </tr>\n",
              "    <tr>\n",
              "      <th>10</th>\n",
              "      <td>neg</td>\n",
              "      <td>neg  uni ekta chor,batpar.\\n</td>\n",
              "    </tr>\n",
              "    <tr>\n",
              "      <th>11</th>\n",
              "      <td>neg</td>\n",
              "      <td>neg  lok ta onk karp</td>\n",
              "    </tr>\n",
              "  </tbody>\n",
              "</table>\n",
              "</div>\n",
              "      <button class=\"colab-df-convert\" onclick=\"convertToInteractive('df-0210836c-f603-420c-8afa-56d942e6a2f6')\"\n",
              "              title=\"Convert this dataframe to an interactive table.\"\n",
              "              style=\"display:none;\">\n",
              "        \n",
              "  <svg xmlns=\"http://www.w3.org/2000/svg\" height=\"24px\"viewBox=\"0 0 24 24\"\n",
              "       width=\"24px\">\n",
              "    <path d=\"M0 0h24v24H0V0z\" fill=\"none\"/>\n",
              "    <path d=\"M18.56 5.44l.94 2.06.94-2.06 2.06-.94-2.06-.94-.94-2.06-.94 2.06-2.06.94zm-11 1L8.5 8.5l.94-2.06 2.06-.94-2.06-.94L8.5 2.5l-.94 2.06-2.06.94zm10 10l.94 2.06.94-2.06 2.06-.94-2.06-.94-.94-2.06-.94 2.06-2.06.94z\"/><path d=\"M17.41 7.96l-1.37-1.37c-.4-.4-.92-.59-1.43-.59-.52 0-1.04.2-1.43.59L10.3 9.45l-7.72 7.72c-.78.78-.78 2.05 0 2.83L4 21.41c.39.39.9.59 1.41.59.51 0 1.02-.2 1.41-.59l7.78-7.78 2.81-2.81c.8-.78.8-2.07 0-2.86zM5.41 20L4 18.59l7.72-7.72 1.47 1.35L5.41 20z\"/>\n",
              "  </svg>\n",
              "      </button>\n",
              "      \n",
              "  <style>\n",
              "    .colab-df-container {\n",
              "      display:flex;\n",
              "      flex-wrap:wrap;\n",
              "      gap: 12px;\n",
              "    }\n",
              "\n",
              "    .colab-df-convert {\n",
              "      background-color: #E8F0FE;\n",
              "      border: none;\n",
              "      border-radius: 50%;\n",
              "      cursor: pointer;\n",
              "      display: none;\n",
              "      fill: #1967D2;\n",
              "      height: 32px;\n",
              "      padding: 0 0 0 0;\n",
              "      width: 32px;\n",
              "    }\n",
              "\n",
              "    .colab-df-convert:hover {\n",
              "      background-color: #E2EBFA;\n",
              "      box-shadow: 0px 1px 2px rgba(60, 64, 67, 0.3), 0px 1px 3px 1px rgba(60, 64, 67, 0.15);\n",
              "      fill: #174EA6;\n",
              "    }\n",
              "\n",
              "    [theme=dark] .colab-df-convert {\n",
              "      background-color: #3B4455;\n",
              "      fill: #D2E3FC;\n",
              "    }\n",
              "\n",
              "    [theme=dark] .colab-df-convert:hover {\n",
              "      background-color: #434B5C;\n",
              "      box-shadow: 0px 1px 3px 1px rgba(0, 0, 0, 0.15);\n",
              "      filter: drop-shadow(0px 1px 2px rgba(0, 0, 0, 0.3));\n",
              "      fill: #FFFFFF;\n",
              "    }\n",
              "  </style>\n",
              "\n",
              "      <script>\n",
              "        const buttonEl =\n",
              "          document.querySelector('#df-0210836c-f603-420c-8afa-56d942e6a2f6 button.colab-df-convert');\n",
              "        buttonEl.style.display =\n",
              "          google.colab.kernel.accessAllowed ? 'block' : 'none';\n",
              "\n",
              "        async function convertToInteractive(key) {\n",
              "          const element = document.querySelector('#df-0210836c-f603-420c-8afa-56d942e6a2f6');\n",
              "          const dataTable =\n",
              "            await google.colab.kernel.invokeFunction('convertToInteractive',\n",
              "                                                     [key], {});\n",
              "          if (!dataTable) return;\n",
              "\n",
              "          const docLinkHtml = 'Like what you see? Visit the ' +\n",
              "            '<a target=\"_blank\" href=https://colab.research.google.com/notebooks/data_table.ipynb>data table notebook</a>'\n",
              "            + ' to learn more about interactive tables.';\n",
              "          element.innerHTML = '';\n",
              "          dataTable['output_type'] = 'display_data';\n",
              "          await google.colab.output.renderOutput(dataTable, element);\n",
              "          const docLink = document.createElement('div');\n",
              "          docLink.innerHTML = docLinkHtml;\n",
              "          element.appendChild(docLink);\n",
              "        }\n",
              "      </script>\n",
              "    </div>\n",
              "  </div>\n",
              "  "
            ]
          },
          "metadata": {},
          "execution_count": 43
        }
      ]
    },
    {
      "cell_type": "code",
      "source": [
        "df.describe(include='all')"
      ],
      "metadata": {
        "colab": {
          "base_uri": "https://localhost:8080/",
          "height": 175
        },
        "id": "zQR0yydmmBbm",
        "outputId": "c43f58bd-1d59-4251-faac-b3b110ade849"
      },
      "execution_count": 44,
      "outputs": [
        {
          "output_type": "execute_result",
          "data": {
            "text/plain": [
              "       label                    sentence\n",
              "count     12                          12\n",
              "unique     3                          12\n",
              "top      neg  ntr  amra sobhai raji!!!\\n\n",
              "freq       5                           1"
            ],
            "text/html": [
              "\n",
              "  <div id=\"df-c70a8bdc-edbd-4907-9844-7309f664d6a5\">\n",
              "    <div class=\"colab-df-container\">\n",
              "      <div>\n",
              "<style scoped>\n",
              "    .dataframe tbody tr th:only-of-type {\n",
              "        vertical-align: middle;\n",
              "    }\n",
              "\n",
              "    .dataframe tbody tr th {\n",
              "        vertical-align: top;\n",
              "    }\n",
              "\n",
              "    .dataframe thead th {\n",
              "        text-align: right;\n",
              "    }\n",
              "</style>\n",
              "<table border=\"1\" class=\"dataframe\">\n",
              "  <thead>\n",
              "    <tr style=\"text-align: right;\">\n",
              "      <th></th>\n",
              "      <th>label</th>\n",
              "      <th>sentence</th>\n",
              "    </tr>\n",
              "  </thead>\n",
              "  <tbody>\n",
              "    <tr>\n",
              "      <th>count</th>\n",
              "      <td>12</td>\n",
              "      <td>12</td>\n",
              "    </tr>\n",
              "    <tr>\n",
              "      <th>unique</th>\n",
              "      <td>3</td>\n",
              "      <td>12</td>\n",
              "    </tr>\n",
              "    <tr>\n",
              "      <th>top</th>\n",
              "      <td>neg</td>\n",
              "      <td>ntr  amra sobhai raji!!!\\n</td>\n",
              "    </tr>\n",
              "    <tr>\n",
              "      <th>freq</th>\n",
              "      <td>5</td>\n",
              "      <td>1</td>\n",
              "    </tr>\n",
              "  </tbody>\n",
              "</table>\n",
              "</div>\n",
              "      <button class=\"colab-df-convert\" onclick=\"convertToInteractive('df-c70a8bdc-edbd-4907-9844-7309f664d6a5')\"\n",
              "              title=\"Convert this dataframe to an interactive table.\"\n",
              "              style=\"display:none;\">\n",
              "        \n",
              "  <svg xmlns=\"http://www.w3.org/2000/svg\" height=\"24px\"viewBox=\"0 0 24 24\"\n",
              "       width=\"24px\">\n",
              "    <path d=\"M0 0h24v24H0V0z\" fill=\"none\"/>\n",
              "    <path d=\"M18.56 5.44l.94 2.06.94-2.06 2.06-.94-2.06-.94-.94-2.06-.94 2.06-2.06.94zm-11 1L8.5 8.5l.94-2.06 2.06-.94-2.06-.94L8.5 2.5l-.94 2.06-2.06.94zm10 10l.94 2.06.94-2.06 2.06-.94-2.06-.94-.94-2.06-.94 2.06-2.06.94z\"/><path d=\"M17.41 7.96l-1.37-1.37c-.4-.4-.92-.59-1.43-.59-.52 0-1.04.2-1.43.59L10.3 9.45l-7.72 7.72c-.78.78-.78 2.05 0 2.83L4 21.41c.39.39.9.59 1.41.59.51 0 1.02-.2 1.41-.59l7.78-7.78 2.81-2.81c.8-.78.8-2.07 0-2.86zM5.41 20L4 18.59l7.72-7.72 1.47 1.35L5.41 20z\"/>\n",
              "  </svg>\n",
              "      </button>\n",
              "      \n",
              "  <style>\n",
              "    .colab-df-container {\n",
              "      display:flex;\n",
              "      flex-wrap:wrap;\n",
              "      gap: 12px;\n",
              "    }\n",
              "\n",
              "    .colab-df-convert {\n",
              "      background-color: #E8F0FE;\n",
              "      border: none;\n",
              "      border-radius: 50%;\n",
              "      cursor: pointer;\n",
              "      display: none;\n",
              "      fill: #1967D2;\n",
              "      height: 32px;\n",
              "      padding: 0 0 0 0;\n",
              "      width: 32px;\n",
              "    }\n",
              "\n",
              "    .colab-df-convert:hover {\n",
              "      background-color: #E2EBFA;\n",
              "      box-shadow: 0px 1px 2px rgba(60, 64, 67, 0.3), 0px 1px 3px 1px rgba(60, 64, 67, 0.15);\n",
              "      fill: #174EA6;\n",
              "    }\n",
              "\n",
              "    [theme=dark] .colab-df-convert {\n",
              "      background-color: #3B4455;\n",
              "      fill: #D2E3FC;\n",
              "    }\n",
              "\n",
              "    [theme=dark] .colab-df-convert:hover {\n",
              "      background-color: #434B5C;\n",
              "      box-shadow: 0px 1px 3px 1px rgba(0, 0, 0, 0.15);\n",
              "      filter: drop-shadow(0px 1px 2px rgba(0, 0, 0, 0.3));\n",
              "      fill: #FFFFFF;\n",
              "    }\n",
              "  </style>\n",
              "\n",
              "      <script>\n",
              "        const buttonEl =\n",
              "          document.querySelector('#df-c70a8bdc-edbd-4907-9844-7309f664d6a5 button.colab-df-convert');\n",
              "        buttonEl.style.display =\n",
              "          google.colab.kernel.accessAllowed ? 'block' : 'none';\n",
              "\n",
              "        async function convertToInteractive(key) {\n",
              "          const element = document.querySelector('#df-c70a8bdc-edbd-4907-9844-7309f664d6a5');\n",
              "          const dataTable =\n",
              "            await google.colab.kernel.invokeFunction('convertToInteractive',\n",
              "                                                     [key], {});\n",
              "          if (!dataTable) return;\n",
              "\n",
              "          const docLinkHtml = 'Like what you see? Visit the ' +\n",
              "            '<a target=\"_blank\" href=https://colab.research.google.com/notebooks/data_table.ipynb>data table notebook</a>'\n",
              "            + ' to learn more about interactive tables.';\n",
              "          element.innerHTML = '';\n",
              "          dataTable['output_type'] = 'display_data';\n",
              "          await google.colab.output.renderOutput(dataTable, element);\n",
              "          const docLink = document.createElement('div');\n",
              "          docLink.innerHTML = docLinkHtml;\n",
              "          element.appendChild(docLink);\n",
              "        }\n",
              "      </script>\n",
              "    </div>\n",
              "  </div>\n",
              "  "
            ]
          },
          "metadata": {},
          "execution_count": 44
        }
      ]
    },
    {
      "cell_type": "code",
      "source": [
        "df['label'].value_counts().plot(kind=\"bar\", rot=0)"
      ],
      "metadata": {
        "colab": {
          "base_uri": "https://localhost:8080/",
          "height": 364
        },
        "id": "WLlFn1BPmEB2",
        "outputId": "8223af01-ec05-4276-a48e-5edacdd1e1b2"
      },
      "execution_count": 45,
      "outputs": [
        {
          "output_type": "execute_result",
          "data": {
            "text/plain": [
              "<matplotlib.axes._subplots.AxesSubplot at 0x7f9346eeda90>"
            ]
          },
          "metadata": {},
          "execution_count": 45
        },
        {
          "output_type": "display_data",
          "data": {
            "text/plain": [
              "<Figure size 576x396 with 1 Axes>"
            ],
            "image/png": "[encoded data removed]"
          },
          "metadata": {}
        }
      ]
    },
    {
      "cell_type": "code",
      "source": [
        "def cleanTxt(text):\n",
        "    text = re.sub(r'[^\\w\\s]', '', text) \n",
        "    text=text.lower()\n",
        "    \n",
        "    text=re.sub(r'[0-9\\.]+', '',text)\n",
        "    stop_words = open('./stop1.txt', 'r',\n",
        "                      encoding='utf-8').read().split()\n",
        "    result = text.split() \n",
        "    text = [word.strip()\n",
        "                           for word in result if word not in stop_words]\n",
        "    text = \" \".join(text)                 \n",
        "    # text=[wordnet.lemmatize(word)for word in text if word not in set(stopwords.words('english'))]\n",
        "    # text=' '.join(text)\n",
        "    return text"
      ],
      "metadata": {
        "id": "Kzy3_JdJmHzT"
      },
      "execution_count": 46,
      "outputs": []
    },
    {
      "cell_type": "code",
      "source": [
        "df.loc[5,'sentence']"
      ],
      "metadata": {
        "colab": {
          "base_uri": "https://localhost:8080/",
          "height": 36
        },
        "id": "nPQf0iQLnfeP",
        "outputId": "61915de4-2d68-476f-c9b8-873af0de28a1"
      },
      "execution_count": 47,
      "outputs": [
        {
          "output_type": "execute_result",
          "data": {
            "text/plain": [
              "'pos  ekjon bangladeshi hisabe ami gorbitho\\n'"
            ],
            "application/vnd.google.colaboratory.intrinsic+json": {
              "type": "string"
            }
          },
          "metadata": {},
          "execution_count": 47
        }
      ]
    },
    {
      "cell_type": "code",
      "source": [
        "# def data_cleaning(articles):\n",
        "#     articles_data_clean = articles.replace('\\n', ' ')\n",
        "#     articles_data_clean = re.sub(\n",
        "#         '[^\\u0980-\\u09FF]', ' ', str(articles_data_clean))\n",
        "#     stop_words = open('./stopword.txt', 'r',\n",
        "#                       encoding='utf-8').read().split()\n",
        "#     result = articles_data_clean.split()\n",
        "#     articles_data_clean = [word.strip()\n",
        "#                            for word in result if word not in stop_words]\n",
        "#     articles_data_clean = \" \".join(articles_data_clean)\n",
        "#     # print(articles_data_clean)\n",
        "#     return articles_data_clean"
      ],
      "metadata": {
        "id": "ub_uLoiNm6bN"
      },
      "execution_count": null,
      "outputs": []
    },
    {
      "cell_type": "code",
      "source": [
        "for i, sent  in enumerate(df['sentence'].tolist()):\n",
        "    df.loc[i,'clean_sentence'] = cleanTxt(sent)"
      ],
      "metadata": {
        "id": "EBMix9T4nk2L"
      },
      "execution_count": 48,
      "outputs": []
    },
    {
      "cell_type": "code",
      "source": [
        "test = df.loc[5,'clean_sentence']\n",
        "test"
      ],
      "metadata": {
        "colab": {
          "base_uri": "https://localhost:8080/",
          "height": 36
        },
        "id": "WSiHi0wTn3OV",
        "outputId": "c4982b45-4b0b-42b5-8822-6b4dbd431414"
      },
      "execution_count": 49,
      "outputs": [
        {
          "output_type": "execute_result",
          "data": {
            "text/plain": [
              "'bangladeshi hisabe gorbitho'"
            ],
            "application/vnd.google.colaboratory.intrinsic+json": {
              "type": "string"
            }
          },
          "metadata": {},
          "execution_count": 49
        }
      ]
    },
    {
      "cell_type": "code",
      "source": [
        "def tokenized_data(sent):\n",
        "    tokenized_text = sent.split()\n",
        "    return tokenized_text"
      ],
      "metadata": {
        "id": "Wr_isdRvoCOS"
      },
      "execution_count": 50,
      "outputs": []
    },
    {
      "cell_type": "code",
      "source": [
        "stop_words = {'amra','ki','ekjon','ntr','pos','neg','to','ta','re','ami'}\n",
        "\n",
        "def remove_stop_words(text):\n",
        "    text = [w for w in text if not w in stop_words]\n",
        "    text = ' '.join(text)\n",
        "    return text"
      ],
      "metadata": {
        "id": "yhNu0gs-ondI"
      },
      "execution_count": 51,
      "outputs": []
    },
    {
      "cell_type": "code",
      "source": [
        "t_data = tokenized_data(test)\n",
        "r_word = remove_stop_words(t_data)\n",
        "print('befor :', test)\n",
        "print('after :', r_word)"
      ],
      "metadata": {
        "colab": {
          "base_uri": "https://localhost:8080/"
        },
        "id": "gFPdYtMopX1l",
        "outputId": "b14089d3-bd1a-48a4-8598-e2094ffde1c3"
      },
      "execution_count": 52,
      "outputs": [
        {
          "output_type": "stream",
          "name": "stdout",
          "text": [
            "befor : bangladeshi hisabe gorbitho\n",
            "after : bangladeshi hisabe gorbitho\n"
          ]
        }
      ]
    },
    {
      "cell_type": "code",
      "source": [
        "df['clean_data'] = [remove_stop_words(tokenized_data(sent)) for sent in df['clean_sentence'].tolist()]\n",
        "#del df['sentence']\n",
        "df.to_csv('sentiment_analysis_clean_data.csv', encoding='utf-8', index=False)"
      ],
      "metadata": {
        "id": "fI0l_5sEqVyY"
      },
      "execution_count": 53,
      "outputs": []
    },
    {
      "cell_type": "code",
      "source": [
        "from sklearn.feature_extraction.text import CountVectorizer\n",
        "stpGram = {}\n",
        "word_vectorizerGram = CountVectorizer(analyzer='word', ngram_range=(1, 3), min_df=1, lowercase=False,\n",
        "                                          token_pattern=u'[\\S]+', tokenizer=None)\n",
        "word_vectorizerGram.fit_transform(df['clean_sentence'])\n",
        "stpGram = word_vectorizerGram.get_feature_names()\n",
        "print(len(stpGram))"
      ],
      "metadata": {
        "colab": {
          "base_uri": "https://localhost:8080/"
        },
        "id": "jeLLILOAqh09",
        "outputId": "674f59ff-3450-4798-aa14-7537b1a8cc54"
      },
      "execution_count": 73,
      "outputs": [
        {
          "output_type": "stream",
          "name": "stdout",
          "text": [
            "82\n"
          ]
        }
      ]
    },
    {
      "cell_type": "code",
      "source": [
        "word_vectorizerGram_rsw = CountVectorizer(analyzer='word', ngram_range=(1, 3), min_df=1, lowercase=False,\n",
        "                                          token_pattern=u'[\\S]+', tokenizer=None)\n",
        "word_vectorizerGram_rsw.fit_transform(df['clean_data'])\n",
        "stpGram_rsw = word_vectorizerGram_rsw.get_feature_names()\n",
        "print(len(stpGram_rsw))\n",
        "print('sample of bigram : ',stpGram_rsw[10])"
      ],
      "metadata": {
        "colab": {
          "base_uri": "https://localhost:8080/"
        },
        "id": "hBjE7z1lrqSW",
        "outputId": "4053e6de-bbde-4779-92fe-cc0b07e9ca9b"
      },
      "execution_count": 74,
      "outputs": [
        {
          "output_type": "stream",
          "name": "stdout",
          "text": [
            "82\n",
            "sample of bigram :  bangladeshi hisabe\n"
          ]
        }
      ]
    },
    {
      "cell_type": "code",
      "source": [
        "import numpy as np\n",
        "def sentence_to_vector_transform(line, stpGram):\n",
        "    vec = CountVectorizer(analyzer='word', ngram_range=(1, 2), min_df=1, lowercase=False, token_pattern=u'[\\S]+',\n",
        "                            tokenizer=None, vocabulary=stpGram)\n",
        "    tList = []\n",
        "    tList.append(line)\n",
        "    sent = vec.transform(tList)\n",
        "    sent = sent.toarray()\n",
        "    sent = np.squeeze(np.asarray(sent))\n",
        "    return sent"
      ],
      "metadata": {
        "id": "Km1n3E0ys1aB"
      },
      "execution_count": 75,
      "outputs": []
    },
    {
      "cell_type": "code",
      "source": [
        "def sentence_to_vector(data, stpGram):\n",
        "    dataForSVM = []\n",
        "    colName = []\n",
        "    dataVec = []\n",
        "    dataVec.append(colName)\n",
        "    \n",
        "    for idx, sent in enumerate(data):\n",
        "        \n",
        "        sent = sentence_to_vector_transform(sent, stpGram)\n",
        "        sentLst = list(sent)\n",
        "        dtList = []\n",
        "        try:\n",
        "            dtList.append(label2id[idx])\n",
        "            dataForSVM.append(sent)\n",
        "        except:\n",
        "            print(idx)\n",
        "        for item in sentLst:\n",
        "            dtList.append(item)\n",
        "        lengthOfEV = len(dtList)\n",
        "        dataVec.append(dtList)\n",
        "        \n",
        "    return dataForSVM"
      ],
      "metadata": {
        "id": "ALNgPPERs87M"
      },
      "execution_count": 76,
      "outputs": []
    },
    {
      "cell_type": "code",
      "source": [
        "dataForSVM = sentence_to_vector(df['clean_data'], stpGram_rsw)\n",
        "dataForSVM[0:4]"
      ],
      "metadata": {
        "colab": {
          "base_uri": "https://localhost:8080/"
        },
        "id": "qzAqjXiXtEFS",
        "outputId": "7a20dcde-5564-4522-fbcd-2be7ec3f3542"
      },
      "execution_count": 77,
      "outputs": [
        {
          "output_type": "execute_result",
          "data": {
            "text/plain": [
              "[array([0, 0, 0, 0, 0, 0, 0, 0, 0, 0, 0, 0, 0, 0, 0, 0, 0, 0, 0, 0, 0, 0,\n",
              "        0, 0, 0, 0, 0, 0, 0, 0, 0, 0, 0, 0, 0, 0, 0, 0, 0, 0, 0, 0, 0, 0,\n",
              "        0, 0, 0, 0, 0, 0, 0, 0, 0, 0, 0, 0, 0, 0, 0, 0, 0, 0, 0, 0, 1, 0,\n",
              "        0, 0, 1, 1, 0, 0, 0, 0, 0, 0, 0, 0, 0, 0, 0, 0]),\n",
              " array([0, 1, 0, 0, 1, 0, 0, 0, 0, 0, 0, 0, 0, 0, 0, 0, 0, 0, 0, 0, 0, 0,\n",
              "        0, 0, 0, 0, 0, 0, 0, 0, 0, 0, 0, 0, 0, 1, 0, 0, 0, 0, 0, 0, 0, 0,\n",
              "        0, 0, 0, 0, 0, 0, 0, 0, 0, 0, 0, 0, 0, 0, 0, 0, 0, 0, 0, 0, 0, 0,\n",
              "        0, 0, 0, 0, 0, 0, 0, 0, 0, 0, 0, 0, 0, 0, 0, 0]),\n",
              " array([0, 1, 1, 0, 0, 0, 0, 1, 1, 0, 0, 0, 0, 0, 0, 0, 0, 0, 0, 0, 0, 0,\n",
              "        0, 0, 0, 0, 0, 0, 0, 0, 0, 0, 0, 0, 0, 0, 1, 0, 0, 0, 0, 0, 0, 0,\n",
              "        0, 0, 0, 0, 0, 0, 0, 0, 0, 0, 0, 0, 0, 0, 0, 0, 0, 0, 0, 0, 0, 0,\n",
              "        0, 0, 0, 0, 0, 0, 0, 0, 0, 0, 0, 0, 0, 0, 0, 0]),\n",
              " array([1, 0, 0, 0, 0, 0, 0, 0, 0, 0, 0, 0, 0, 0, 0, 0, 0, 0, 0, 0, 0, 0,\n",
              "        0, 0, 0, 0, 0, 0, 0, 0, 0, 0, 0, 0, 0, 0, 0, 0, 0, 0, 0, 0, 0, 0,\n",
              "        0, 0, 0, 0, 0, 0, 0, 0, 0, 0, 0, 0, 0, 0, 0, 0, 0, 0, 0, 0, 0, 0,\n",
              "        0, 0, 1, 0, 1, 0, 0, 0, 0, 0, 0, 0, 1, 1, 0, 0])]"
            ]
          },
          "metadata": {},
          "execution_count": 77
        }
      ]
    },
    {
      "cell_type": "code",
      "source": [
        "from sklearn.model_selection import train_test_split\n",
        "X_train, X_test, y_train, y_test = train_test_split(dataForSVM, label2id, test_size=0.2, random_state=0)"
      ],
      "metadata": {
        "id": "uXNTt9k6tNFV"
      },
      "execution_count": 78,
      "outputs": []
    },
    {
      "cell_type": "code",
      "source": [
        "from sklearn.svm import SVC\n",
        "C = 1.0  # SVM regularization parameter\n",
        "linear_svc = SVC(kernel='linear', C=C)\n",
        "linear_svc = linear_svc.fit(X_train, y_train)"
      ],
      "metadata": {
        "id": "xEVJYnUNtZE2"
      },
      "execution_count": 79,
      "outputs": []
    },
    {
      "cell_type": "code",
      "source": [
        "import joblib\n",
        "import joblib as jb\n",
        "filename = 'svc_model.sav'\n",
        "jb.dump(linear_svc, filename)"
      ],
      "metadata": {
        "colab": {
          "base_uri": "https://localhost:8080/"
        },
        "id": "2q4RiqAqtdmI",
        "outputId": "ebd6f5c7-4f0e-4615-bd81-4194b7734c4f"
      },
      "execution_count": 80,
      "outputs": [
        {
          "output_type": "execute_result",
          "data": {
            "text/plain": [
              "['svc_model.sav']"
            ]
          },
          "metadata": {},
          "execution_count": 80
        }
      ]
    },
    {
      "cell_type": "code",
      "source": [
        "from sklearn import metrics\n",
        "from sklearn.metrics import confusion_matrix\n",
        "\n",
        "def calculate_accuracy(kernel, model):\n",
        "    y_pred = model.predict(X_test)\n",
        "    #print the accuracy score of the model\n",
        "    print(kernel + \" accuracy : \",metrics.accuracy_score(y_test, y_pred, normalize = True))\n",
        "    score = confusion_matrix(y_test, y_pred)\n",
        "    print('confusion_matrix: \\n', score)"
      ],
      "metadata": {
        "id": "vHu42crJtjbR"
      },
      "execution_count": 81,
      "outputs": []
    },
    {
      "cell_type": "code",
      "source": [
        "from yellowbrick.classifier import ClassificationReport\n",
        "# Instantiate the classification model and visualizer\n",
        "\n",
        "def report(model):\n",
        "    visualizer = ClassificationReport(model, classes=['Won','Loss'])\n",
        "    visualizer.fit(X_train, y_train) # Fit the training data to the visualizer\n",
        "    visualizer.score(X_test, y_test) # Evaluate the model on the test data\n",
        "    g = visualizer.poof() # Draw/show/poof the data"
      ],
      "metadata": {
        "id": "eQ4l_GyJtouv"
      },
      "execution_count": 82,
      "outputs": []
    },
    {
      "cell_type": "code",
      "source": [
        "calculate_accuracy(kernel='linear', model=linear_svc)"
      ],
      "metadata": {
        "colab": {
          "base_uri": "https://localhost:8080/"
        },
        "id": "Lo2LCPFsttJU",
        "outputId": "21734125-c13a-4379-a016-4713f26df778"
      },
      "execution_count": 83,
      "outputs": [
        {
          "output_type": "stream",
          "name": "stdout",
          "text": [
            "linear accuracy :  0.0\n",
            "confusion_matrix: \n",
            " [[0 0 2]\n",
            " [0 0 1]\n",
            " [0 0 0]]\n"
          ]
        }
      ]
    },
    {
      "cell_type": "code",
      "source": [
        "rbf_svc = SVC(kernel='rbf', gamma=0.7, C=C)\n",
        "rbf_svc = rbf_svc.fit(X_train, y_train)\n",
        "calculate_accuracy(kernel='rbf', model=rbf_svc)"
      ],
      "metadata": {
        "colab": {
          "base_uri": "https://localhost:8080/"
        },
        "id": "XebslpzJtz0Z",
        "outputId": "7c956c61-dd32-4517-a973-85ed60c036a2"
      },
      "execution_count": 84,
      "outputs": [
        {
          "output_type": "stream",
          "name": "stdout",
          "text": [
            "rbf accuracy :  0.3333333333333333\n",
            "confusion_matrix: \n",
            " [[0 2]\n",
            " [0 1]]\n"
          ]
        }
      ]
    },
    {
      "cell_type": "code",
      "source": [
        "# poly_svc = SVC(kernel='poly', degree=3, C=C)\n",
        "# poly_svc = poly_svc.fit(X_train, y_train)\n",
        "# calculate_accuracy(kernel='rbf', model=poly_svc)"
      ],
      "metadata": {
        "id": "CMoaBDpeuHpI"
      },
      "execution_count": null,
      "outputs": []
    },
    {
      "cell_type": "code",
      "source": [
        "def calculate_accuracy(predictions, actual, modelName):\n",
        "    total = len(predictions)\n",
        "    idx = 0\n",
        "    error = 0\n",
        "    almostSame = 0\n",
        "    while idx < total:\n",
        "        if predictions[idx] != actual[idx]:\n",
        "            p = predictions[idx]\n",
        "            a = actual[idx]\n",
        "            # print('actual=',y_test[idx],'  predict=',predictions[idx])\n",
        "            if ((a == 0 or a == 1) and (p == 0 or p == 1)) or ((a == 3 or a == 4) and (p == 3 or p == 4)):\n",
        "                almostSame += 1\n",
        "            else:\n",
        "                error += 1\n",
        "        idx += 1\n",
        "    print('\\n', modelName, '\\n')\n",
        "    print(\"total=\", total)\n",
        "    print(\"error=\", error)\n",
        "    print(\"accuracy = \", ((total - error) * 100) / total)\n",
        "    print('almost same = ', almostSame)\n",
        "    print(\"actual accracy = \", ((total - error - almostSame) * 100) / total)"
      ],
      "metadata": {
        "id": "erl8NvoNt9ek"
      },
      "execution_count": 85,
      "outputs": []
    },
    {
      "cell_type": "code",
      "source": [
        "y_pred = linear_svc.predict(X_test)\n",
        "calculate_accuracy(y_pred, y_test, 'Linear')\n",
        "\n",
        "y_pred_rbf = rbf_svc.predict(X_test)\n",
        "calculate_accuracy(y_pred_rbf, y_test, 'rbf_svc')\n",
        "\n",
        "# y_pred_poly = poly_svc.predict(X_test)\n",
        "# calculate_accuracy(y_pred_poly, y_test, 'poly_svc')"
      ],
      "metadata": {
        "colab": {
          "base_uri": "https://localhost:8080/"
        },
        "id": "WgNv_Z6qt-8T",
        "outputId": "c6b3c30b-d6ce-4941-ec9e-cc2e8100dd35"
      },
      "execution_count": 86,
      "outputs": [
        {
          "output_type": "stream",
          "name": "stdout",
          "text": [
            "\n",
            " Linear \n",
            "\n",
            "total= 3\n",
            "error= 3\n",
            "accuracy =  0.0\n",
            "almost same =  0\n",
            "actual accracy =  0.0\n",
            "\n",
            " rbf_svc \n",
            "\n",
            "total= 3\n",
            "error= 0\n",
            "accuracy =  100.0\n",
            "almost same =  2\n",
            "actual accracy =  33.333333333333336\n"
          ]
        }
      ]
    },
    {
      "cell_type": "code",
      "source": [
        "from sklearn.ensemble import AdaBoostClassifier\n",
        "\n",
        "lr_list = [0.05, 0.075, 0.1, 0.25, 0.5, 0.75, 1]\n",
        "\n",
        "for learning_rate in lr_list:\n",
        "\n",
        "    abc = AdaBoostClassifier(n_estimators=50,\n",
        "                         learning_rate=learning_rate)\n",
        "    \n",
        "    abc_model = abc.fit(X_train, y_train)\n",
        "    \n",
        "    print(\"Learning rate: \", learning_rate)\n",
        "    print(\"Accuracy score (training): {0:.3f}\".format(abc_model.score(X_train, y_train)))\n",
        "    print(\"Accuracy score (validation): {0:.3f}\".format(abc_model.score(X_test, y_test)))"
      ],
      "metadata": {
        "colab": {
          "base_uri": "https://localhost:8080/"
        },
        "id": "JtEi4UeJudL2",
        "outputId": "3a1ebfa5-43a5-481a-bec4-ece443808984"
      },
      "execution_count": 87,
      "outputs": [
        {
          "output_type": "stream",
          "name": "stdout",
          "text": [
            "Learning rate:  0.05\n",
            "Accuracy score (training): 1.000\n",
            "Accuracy score (validation): 0.000\n",
            "Learning rate:  0.075\n",
            "Accuracy score (training): 1.000\n",
            "Accuracy score (validation): 0.000\n",
            "Learning rate:  0.1\n",
            "Accuracy score (training): 1.000\n",
            "Accuracy score (validation): 0.000\n",
            "Learning rate:  0.25\n",
            "Accuracy score (training): 1.000\n",
            "Accuracy score (validation): 0.667\n",
            "Learning rate:  0.5\n",
            "Accuracy score (training): 1.000\n",
            "Accuracy score (validation): 0.000\n",
            "Learning rate:  0.75\n",
            "Accuracy score (training): 1.000\n",
            "Accuracy score (validation): 0.667\n",
            "Learning rate:  1\n",
            "Accuracy score (training): 0.667\n",
            "Accuracy score (validation): 0.667\n"
          ]
        }
      ]
    },
    {
      "cell_type": "code",
      "source": [
        "sent = ' chore chore bhai'\n",
        "\n",
        "sent = cleanTxt(sent)\n",
        "sent2vec =sentence_to_vector_transform(sent, stpGram)\n",
        "sent_list = list()\n",
        "sent_list.append(sent2vec)\n",
        "\n",
        "loaded_model = jb.load(filename)\n",
        "print(sent_list)\n",
        "predictions = loaded_model.predict(sent_list)\n",
        "print(predictions)\n",
        "\n",
        "ans = \"\"\n",
        "print(classDict)\n",
        "for key, value in classDict.items():\n",
        "    if value == predictions[0]:\n",
        "        ans = key\n",
        "print(ans)\n"
      ],
      "metadata": {
        "colab": {
          "base_uri": "https://localhost:8080/"
        },
        "id": "ptHtb10xuj6q",
        "outputId": "82b5ce89-653e-4fdb-8e50-bb065b7409d8"
      },
      "execution_count": 106,
      "outputs": [
        {
          "output_type": "stream",
          "name": "stdout",
          "text": [
            "[array([0, 0, 0, 0, 0, 0, 0, 0, 0, 0, 0, 0, 1, 0, 2, 1, 0, 0, 0, 0, 0, 0,\n",
            "       0, 0, 0, 0, 0, 0, 0, 0, 0, 0, 0, 0, 0, 0, 0, 0, 0, 0, 0, 0, 0, 0,\n",
            "       0, 0, 0, 0, 0, 0, 0, 0, 0, 0, 0, 0, 0, 0, 0, 0, 0, 0, 0, 0, 0, 0,\n",
            "       0, 0, 0, 0, 0, 0, 0, 0, 0, 0, 0, 0, 0, 0, 0, 0])]\n",
            "[0]\n",
            "{'neg': 0, 'pos': 1, 'ntr': 2}\n",
            "neg\n"
          ]
        }
      ]
    }
  ],
  "metadata": {
    "colab": {
      "provenance": []
    },
    "kernelspec": {
      "display_name": "Python 3",
      "name": "python3"
    }
  },
  "nbformat": 4,
  "nbformat_minor": 0
}